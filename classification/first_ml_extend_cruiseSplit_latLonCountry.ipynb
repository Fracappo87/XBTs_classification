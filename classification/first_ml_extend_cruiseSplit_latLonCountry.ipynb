{
 "cells": [
  {
   "cell_type": "markdown",
   "metadata": {},
   "source": [
    "# A machine learning decision tree approach\n",
    "\n",
    "The iMeta algorithm is essentially a decision tree algorithm, where the variables and threshold for the decisions at each step are manually specified based on human analysis. The simplest way to apply machine learning techniques to the problem would be to use a similar structure to iMeta, which is a decision tree, but use standard ML training techiniques to learn the parameters such as what thresholds to use and how many branches/leaves to have in the tree for the best results. "
   ]
  },
  {
   "cell_type": "code",
   "execution_count": 1,
   "metadata": {},
   "outputs": [],
   "source": [
    "import os\n",
    "import sys\n",
    "from pathlib import Path\n",
    "import functools\n",
    "\n",
    "import pandas\n",
    "import numpy\n",
    "\n",
    "import matplotlib\n",
    "import matplotlib.pyplot\n",
    "import warnings\n",
    "warnings.filterwarnings('ignore')"
   ]
  },
  {
   "cell_type": "code",
   "execution_count": 2,
   "metadata": {},
   "outputs": [],
   "source": [
    "import ipywidgets\n",
    "import time"
   ]
  },
  {
   "cell_type": "code",
   "execution_count": 3,
   "metadata": {},
   "outputs": [],
   "source": [
    "import sklearn\n",
    "import sklearn.model_selection\n",
    "import sklearn.preprocessing\n",
    "import sklearn.neural_network\n",
    "import sklearn.metrics"
   ]
  },
  {
   "cell_type": "code",
   "execution_count": 4,
   "metadata": {},
   "outputs": [],
   "source": [
    "root_repo_dir = Path().absolute().parent\n",
    "sys.path = [os.path.join(root_repo_dir,'dataexploration'),\n",
    "            os.path.join(root_repo_dir,'classification'),\n",
    "            os.path.join(root_repo_dir,'preprocessing'),\n",
    "            os.path.join(root_repo_dir,'metrics'),\n",
    "           ] + sys.path"
   ]
  },
  {
   "cell_type": "code",
   "execution_count": 5,
   "metadata": {},
   "outputs": [],
   "source": [
    "from xbt_dataset import XbtDataset, UNKNOWN_STR, cat_output_formatter"
   ]
  },
  {
   "cell_type": "code",
   "execution_count": 6,
   "metadata": {},
   "outputs": [],
   "source": [
    "from imeta import imeta_classification, XBT_MAX_DEPTH"
   ]
  },
  {
   "cell_type": "code",
   "execution_count": 7,
   "metadata": {},
   "outputs": [],
   "source": [
    "# Set up some site specific parameters for the notebook\n",
    "environment = 'pangeo'\n",
    "env_data_dirs = {\n",
    "    'MO_scitools': '/data/users/shaddad/xbt-data/csv_with_imeta',\n",
    "    'pangeo': '/data/misc/xbt-data/csv_with_imeta/',\n",
    "}\n",
    "env_date_ranges = {\n",
    "    'MO_scitools': (1966,2015),\n",
    "    'pangeo': (1966,2015)\n",
    "}\n",
    "output_dirs = {\n",
    "    'MO_scitools': '/data/users/shaddad/xbt-data/csv_output',\n",
    "    'pangeo': '/data/misc/xbt-data/csv_output/',\n",
    "\n",
    "}\n",
    "result_dirs = {\n",
    "    'MO_scitools': '/data/users/shaddad/xbt-data/results',\n",
    "    'pangeo': '/data/misc/xbt-data/results/',\n",
    "}\n"
   ]
  },
  {
   "cell_type": "code",
   "execution_count": 8,
   "metadata": {},
   "outputs": [],
   "source": [
    "output_dir = output_dirs[environment]\n",
    "output_fname_template = 'xbt_output_{classifier}_{suffix}.csv'\n",
    "result_dir = result_dirs[environment]\n",
    "result_fname_template = 'xbt_metrics_{classifier}_{suffix}.csv'"
   ]
  },
  {
   "cell_type": "code",
   "execution_count": 9,
   "metadata": {},
   "outputs": [],
   "source": [
    "cv_metric_names = ['f1_weighted','precision_weighted','recall_weighted']\n",
    "input_feature_names = ['country','max_depth', 'year', 'lat', 'lon']"
   ]
  },
  {
   "cell_type": "code",
   "execution_count": 10,
   "metadata": {},
   "outputs": [],
   "source": [
    "classifier_class = sklearn.neural_network.MLPClassifier\n",
    "classifier_opts = {'max_iter': 200,\n",
    "                  'hidden_layer_sizes':(100,),\n",
    "                   'alpha': 1e-4,\n",
    "                  }\n",
    "classifier_name = 'MLP'\n",
    "suffix='countryLatLon'"
   ]
  },
  {
   "cell_type": "code",
   "execution_count": 11,
   "metadata": {},
   "outputs": [
    {
     "name": "stdout",
     "output_type": "stream",
     "text": [
      "CPU times: user 1min 43s, sys: 9.67 s, total: 1min 53s\n",
      "Wall time: 5min 13s\n"
     ]
    }
   ],
   "source": [
    "%%time\n",
    "xbt_full_dataset = XbtDataset(env_data_dirs[environment], env_date_ranges[environment])"
   ]
  },
  {
   "cell_type": "markdown",
   "metadata": {},
   "source": [
    "## Data preparation\n",
    "\n",
    "We are only testing on the labelled data, to be able to evluate performance. The XbtDataset class has filtered out some bad data including profiles with maximum depths less that 0.0 or greater than 2000.0. There were also some profiles with bad date entries, which have been excluded for now."
   ]
  },
  {
   "cell_type": "code",
   "execution_count": 12,
   "metadata": {},
   "outputs": [
    {
     "name": "stdout",
     "output_type": "stream",
     "text": [
      "CPU times: user 285 ms, sys: 35.7 ms, total: 321 ms\n",
      "Wall time: 318 ms\n"
     ]
    }
   ],
   "source": [
    "%%time\n",
    "xbt_labelled = xbt_full_dataset.filter_obs({'labelled': 'labelled'})"
   ]
  },
  {
   "cell_type": "code",
   "execution_count": 13,
   "metadata": {},
   "outputs": [],
   "source": [
    "_ = xbt_labelled.get_ml_dataset(return_data = False)"
   ]
  },
  {
   "cell_type": "code",
   "execution_count": 14,
   "metadata": {},
   "outputs": [
    {
     "name": "stdout",
     "output_type": "stream",
     "text": [
      "CPU times: user 33.5 ms, sys: 146 µs, total: 33.7 ms\n",
      "Wall time: 31.4 ms\n"
     ]
    }
   ],
   "source": [
    "%%time\n",
    "unseen_cruise_numbers = xbt_labelled.sample_feature_values('cruise_number', fraction=0.1)"
   ]
  },
  {
   "cell_type": "code",
   "execution_count": 15,
   "metadata": {},
   "outputs": [
    {
     "name": "stdout",
     "output_type": "stream",
     "text": [
      "CPU times: user 7.49 s, sys: 8.56 ms, total: 7.5 s\n",
      "Wall time: 7.49 s\n"
     ]
    }
   ],
   "source": [
    "%%time\n",
    "xbt_unseen = xbt_labelled.filter_obs({'cruise_number': unseen_cruise_numbers}, mode='include', check_type='in_filter_set')\n",
    "xbt_working = xbt_labelled.filter_obs({'cruise_number': unseen_cruise_numbers}, mode='exclude', check_type='in_filter_set')"
   ]
  },
  {
   "cell_type": "code",
   "execution_count": 16,
   "metadata": {},
   "outputs": [],
   "source": [
    "imeta_classes = xbt_labelled.xbt_df.apply(imeta_classification, axis=1)\n",
    "imeta_model = imeta_classes.apply(lambda t1: t1[0])\n",
    "imeta_manufacturer = imeta_classes.apply(lambda t1: t1[1])"
   ]
  },
  {
   "cell_type": "code",
   "execution_count": 17,
   "metadata": {},
   "outputs": [],
   "source": [
    "imeta_instrument = imeta_classes.apply(lambda t1: f'XBT: {t1[0]} ({t1[1]})') "
   ]
  },
  {
   "cell_type": "markdown",
   "metadata": {},
   "source": [
    "We are currently training and evaulating separately for model and manufacturer. We will also need to train and evaulate together as this is ultimately what is wanted (a combined probe model and manufacturer field).\n",
    "\n",
    "We are using the default 80/20 split in scikit-learn for now. Further work will need to do proper cross validation where several different splits are randomly selected to verify our results are not an artifact of the randomly chosen split."
   ]
  },
  {
   "cell_type": "code",
   "execution_count": 18,
   "metadata": {},
   "outputs": [
    {
     "name": "stdout",
     "output_type": "stream",
     "text": [
      "CPU times: user 6.37 s, sys: 802 ms, total: 7.17 s\n",
      "Wall time: 7.17 s\n"
     ]
    },
    {
     "data": {
      "text/plain": [
       "0.7532183867682691"
      ]
     },
     "execution_count": 18,
     "metadata": {},
     "output_type": "execute_result"
    }
   ],
   "source": [
    "%%time\n",
    "sklearn.metrics.recall_score(\n",
    "    xbt_labelled._feature_encoders['instrument'].transform(pandas.DataFrame(xbt_labelled['instrument'])),\n",
    "    xbt_labelled._feature_encoders['instrument'].transform(pandas.DataFrame(imeta_instrument)),\n",
    "    average='micro',\n",
    ")"
   ]
  },
  {
   "cell_type": "code",
   "execution_count": 19,
   "metadata": {},
   "outputs": [
    {
     "name": "stdout",
     "output_type": "stream",
     "text": [
      "CPU times: user 2min 47s, sys: 37.8 ms, total: 2min 47s\n",
      "Wall time: 2min 47s\n"
     ]
    }
   ],
   "source": [
    "%%time\n",
    "xbt_train_all, xbt_test_all = xbt_working.train_test_split(refresh=True, features=['instrument', 'year'])"
   ]
  },
  {
   "cell_type": "code",
   "execution_count": 20,
   "metadata": {},
   "outputs": [],
   "source": [
    "X_train_all = xbt_train_all.filter_features(input_feature_names).get_ml_dataset()[0]\n",
    "X_test_all = xbt_test_all.filter_features(input_feature_names).get_ml_dataset()[0]\n",
    "X_unseen_all = xbt_unseen.filter_features(input_feature_names).get_ml_dataset()[0]\n",
    "y_model_train_all = xbt_train_all.filter_features(['model']).get_ml_dataset()[0]\n",
    "y_manuf_train_all = xbt_train_all.filter_features(['manufacturer']).get_ml_dataset()[0]\n",
    "y_instr_train_all = xbt_train_all.filter_features(['instrument']).get_ml_dataset()[0]\n",
    "y_model_test_all = xbt_test_all.filter_features(['model']).get_ml_dataset()[0]\n",
    "y_manuf_test_all = xbt_test_all.filter_features(['manufacturer']).get_ml_dataset()[0]\n",
    "y_instr_test_all = xbt_test_all.filter_features(['instrument']).get_ml_dataset()[0]\n",
    "y_model_unseen_all = xbt_unseen.filter_features(['model']).get_ml_dataset()[0]\n",
    "y_manuf_unseen_all = xbt_unseen.filter_features(['manufacturer']).get_ml_dataset()[0]\n",
    "y_instr_unseen_all = xbt_unseen.filter_features(['instrument']).get_ml_dataset()[0]"
   ]
  },
  {
   "cell_type": "markdown",
   "metadata": {},
   "source": [
    "## Training the classifier\n",
    "\n",
    "We are using the scikit-learn classifier as the closest analogue to the structure of the iMeta algorithm. This tree can have many more nodes and leaves than iMeta though. it is quick to train and evaluate so it is a useful starting point for setting up the ML processing pipelines, as all the scikit-learn classifiers have a common interface. \n",
    "\n",
    "For the model and manufacturer, we train a Decision ree Classifier, then use it to predict values for the train and test sets. We then calculate the accuracy metrics for each for the whole dataset. \n",
    "\n",
    "I am using precision, recall and F1 as fairly standard ML metrics of accuracy. Recall is what has been used in the two previous papers (Palmer et. al, Leahy and Llopis et al) so that is the focus. Support is a useful to see what proportion of the profiles in the dataset belong to each of the different classes."
   ]
  },
  {
   "cell_type": "code",
   "execution_count": 21,
   "metadata": {},
   "outputs": [],
   "source": [
    "metrics_per_class_all = {}\n",
    "metrics_avg_all = {}"
   ]
  },
  {
   "cell_type": "code",
   "execution_count": 22,
   "metadata": {},
   "outputs": [
    {
     "name": "stdout",
     "output_type": "stream",
     "text": [
      "CPU times: user 3h 5min 11s, sys: 5h 14min 27s, total: 8h 19min 38s\n",
      "Wall time: 40min 25s\n"
     ]
    },
    {
     "data": {
      "text/plain": [
       "MLPClassifier(activation='relu', alpha=0.0001, batch_size='auto', beta_1=0.9,\n",
       "              beta_2=0.999, early_stopping=False, epsilon=1e-08,\n",
       "              hidden_layer_sizes=(100,), learning_rate='constant',\n",
       "              learning_rate_init=0.001, max_fun=15000, max_iter=200,\n",
       "              momentum=0.9, n_iter_no_change=10, nesterovs_momentum=True,\n",
       "              power_t=0.5, random_state=None, shuffle=True, solver='adam',\n",
       "              tol=0.0001, validation_fraction=0.1, verbose=False,\n",
       "              warm_start=False)"
      ]
     },
     "execution_count": 22,
     "metadata": {},
     "output_type": "execute_result"
    }
   ],
   "source": [
    "%%time\n",
    "clf_dt_instr1 = classifier_class(**classifier_opts)\n",
    "clf_dt_instr1.fit(X_train_all,y_instr_train_all)"
   ]
  },
  {
   "cell_type": "code",
   "execution_count": 23,
   "metadata": {},
   "outputs": [],
   "source": [
    "y_res_train_instr_all = clf_dt_instr1.predict(X_train_all)\n",
    "metrics1 = sklearn.metrics.precision_recall_fscore_support(y_instr_train_all, y_res_train_instr_all, )\n",
    "metrics_per_class_all.update( {\n",
    "    'precision_instr_train': metrics1[0],\n",
    "    'recall_instr_train': metrics1[1],\n",
    "    'f1_instr_train': metrics1[2],\n",
    "    'support_instr_train': metrics1[3],\n",
    "})\n",
    "metrics_avg_all.update({\n",
    "    'precision_instr_train' : sum(metrics1[0] * metrics1[3])/ sum(metrics1[3]),\n",
    "    'recall_instr_train' : sum(metrics1[1] * metrics1[3])/ sum(metrics1[3]),\n",
    "    'f1_instr_train' : sum(metrics1[2] * metrics1[3])/ sum(metrics1[3]),\n",
    "})"
   ]
  },
  {
   "cell_type": "code",
   "execution_count": 24,
   "metadata": {},
   "outputs": [],
   "source": [
    "y_res_test_instr_all = clf_dt_instr1.predict(X_test_all)\n",
    "metrics1 = sklearn.metrics.precision_recall_fscore_support(y_instr_test_all, y_res_test_instr_all, )\n",
    "metrics_per_class_all.update( {\n",
    "    'precision_instr_test': metrics1[0],\n",
    "    'recall_instr_test': metrics1[1],\n",
    "    'f1_instr_test': metrics1[2],\n",
    "    'support_instr_test': metrics1[3],\n",
    "})\n",
    "metrics_avg_all.update({\n",
    "    'precision_instr_test' : sum(metrics1[0] * metrics1[3])/ sum(metrics1[3]),\n",
    "    'recall_instr_test' : sum(metrics1[1] * metrics1[3])/ sum(metrics1[3]),\n",
    "    'f1_instr_test' : sum(metrics1[2] * metrics1[3])/ sum(metrics1[3]),\n",
    "})"
   ]
  },
  {
   "cell_type": "code",
   "execution_count": 25,
   "metadata": {},
   "outputs": [],
   "source": [
    "y_res_unseen_instr_all = clf_dt_instr1.predict(X_unseen_all)\n",
    "metrics1 = sklearn.metrics.precision_recall_fscore_support(y_instr_unseen_all, y_res_unseen_instr_all, )\n",
    "metrics_per_class_all.update( {\n",
    "    'precision_instr_unseen': metrics1[0],\n",
    "    'recall_instr_unseen': metrics1[1],\n",
    "    'f1_instr_unseen': metrics1[2],\n",
    "    'support_instr_unseen': metrics1[3],\n",
    "})\n",
    "metrics_avg_all.update({\n",
    "    'precision_instr_unseen' : sum(metrics1[0] * metrics1[3])/ sum(metrics1[3]),\n",
    "    'recall_instr_unseen' : sum(metrics1[1] * metrics1[3])/ sum(metrics1[3]),\n",
    "    'f1_instr_unseen' : sum(metrics1[2] * metrics1[3])/ sum(metrics1[3]),\n",
    "})"
   ]
  },
  {
   "cell_type": "code",
   "execution_count": 26,
   "metadata": {},
   "outputs": [],
   "source": [
    "metrics_per_class_all['instrument'] = list(xbt_labelled._feature_encoders['instrument'].categories_[0])"
   ]
  },
  {
   "cell_type": "code",
   "execution_count": 27,
   "metadata": {},
   "outputs": [],
   "source": [
    "df_metrics_per_class_instr = pandas.DataFrame.from_dict({k1:v1 for k1,v1 in metrics_per_class_all.items() if 'instr' in k1})"
   ]
  },
  {
   "cell_type": "code",
   "execution_count": 28,
   "metadata": {},
   "outputs": [],
   "source": [
    "df_metrics_avg = pandas.DataFrame.from_dict({\n",
    "    'target': ['instrument_train','instrument_test', 'instrument_unseen'],\n",
    "    'precision': [v1 for k1,v1 in metrics_avg_all.items() if 'precision' in k1],\n",
    "    'recall': [v1 for k1,v1 in metrics_avg_all.items() if 'recall' in k1],\n",
    "    'f1': [v1 for k1,v1 in metrics_avg_all.items() if 'f1' in k1],\n",
    "})"
   ]
  },
  {
   "cell_type": "code",
   "execution_count": 29,
   "metadata": {},
   "outputs": [
    {
     "data": {
      "text/html": [
       "<div>\n",
       "<style scoped>\n",
       "    .dataframe tbody tr th:only-of-type {\n",
       "        vertical-align: middle;\n",
       "    }\n",
       "\n",
       "    .dataframe tbody tr th {\n",
       "        vertical-align: top;\n",
       "    }\n",
       "\n",
       "    .dataframe thead th {\n",
       "        text-align: right;\n",
       "    }\n",
       "</style>\n",
       "<table border=\"1\" class=\"dataframe\">\n",
       "  <thead>\n",
       "    <tr style=\"text-align: right;\">\n",
       "      <th></th>\n",
       "      <th>target</th>\n",
       "      <th>precision</th>\n",
       "      <th>recall</th>\n",
       "      <th>f1</th>\n",
       "    </tr>\n",
       "  </thead>\n",
       "  <tbody>\n",
       "    <tr>\n",
       "      <th>0</th>\n",
       "      <td>instrument_train</td>\n",
       "      <td>0.926044</td>\n",
       "      <td>0.917062</td>\n",
       "      <td>0.920003</td>\n",
       "    </tr>\n",
       "    <tr>\n",
       "      <th>1</th>\n",
       "      <td>instrument_test</td>\n",
       "      <td>0.926225</td>\n",
       "      <td>0.917140</td>\n",
       "      <td>0.920001</td>\n",
       "    </tr>\n",
       "    <tr>\n",
       "      <th>2</th>\n",
       "      <td>instrument_unseen</td>\n",
       "      <td>0.825030</td>\n",
       "      <td>0.782816</td>\n",
       "      <td>0.784878</td>\n",
       "    </tr>\n",
       "  </tbody>\n",
       "</table>\n",
       "</div>"
      ],
      "text/plain": [
       "              target  precision    recall        f1\n",
       "0   instrument_train   0.926044  0.917062  0.920003\n",
       "1    instrument_test   0.926225  0.917140  0.920001\n",
       "2  instrument_unseen   0.825030  0.782816  0.784878"
      ]
     },
     "execution_count": 29,
     "metadata": {},
     "output_type": "execute_result"
    }
   ],
   "source": [
    "df_metrics_avg"
   ]
  },
  {
   "cell_type": "markdown",
   "metadata": {},
   "source": [
    "# Classification result plots\n",
    "\n",
    "The plots below show the results for the whole XBT dataset. We see that the DT classifier performs well on the training data, but does not seem to generalise well. This especially true, as one would expect, for classes with very little support in the training dataset."
   ]
  },
  {
   "cell_type": "code",
   "execution_count": 31,
   "metadata": {},
   "outputs": [
    {
     "data": {
      "text/html": [
       "<div>\n",
       "<style scoped>\n",
       "    .dataframe tbody tr th:only-of-type {\n",
       "        vertical-align: middle;\n",
       "    }\n",
       "\n",
       "    .dataframe tbody tr th {\n",
       "        vertical-align: top;\n",
       "    }\n",
       "\n",
       "    .dataframe thead th {\n",
       "        text-align: right;\n",
       "    }\n",
       "</style>\n",
       "<table border=\"1\" class=\"dataframe\">\n",
       "  <thead>\n",
       "    <tr style=\"text-align: right;\">\n",
       "      <th></th>\n",
       "      <th>precision_instr_train</th>\n",
       "      <th>recall_instr_train</th>\n",
       "      <th>f1_instr_train</th>\n",
       "      <th>support_instr_train</th>\n",
       "      <th>precision_instr_test</th>\n",
       "      <th>recall_instr_test</th>\n",
       "      <th>f1_instr_test</th>\n",
       "      <th>support_instr_test</th>\n",
       "      <th>precision_instr_unseen</th>\n",
       "      <th>recall_instr_unseen</th>\n",
       "      <th>f1_instr_unseen</th>\n",
       "      <th>support_instr_unseen</th>\n",
       "      <th>instrument</th>\n",
       "    </tr>\n",
       "  </thead>\n",
       "  <tbody>\n",
       "    <tr>\n",
       "      <th>0</th>\n",
       "      <td>0.000000</td>\n",
       "      <td>0.000000</td>\n",
       "      <td>0.000000</td>\n",
       "      <td>70</td>\n",
       "      <td>0.000000</td>\n",
       "      <td>0.000000</td>\n",
       "      <td>0.000000</td>\n",
       "      <td>19</td>\n",
       "      <td>0.000000</td>\n",
       "      <td>0.000000</td>\n",
       "      <td>0.000000</td>\n",
       "      <td>16</td>\n",
       "      <td>XBT: AXBT (TSK - TSURUMI SEIKI Co.)</td>\n",
       "    </tr>\n",
       "    <tr>\n",
       "      <th>1</th>\n",
       "      <td>0.958810</td>\n",
       "      <td>0.939462</td>\n",
       "      <td>0.949037</td>\n",
       "      <td>446</td>\n",
       "      <td>0.971698</td>\n",
       "      <td>0.927928</td>\n",
       "      <td>0.949309</td>\n",
       "      <td>111</td>\n",
       "      <td>0.068301</td>\n",
       "      <td>0.857143</td>\n",
       "      <td>0.126521</td>\n",
       "      <td>91</td>\n",
       "      <td>XBT: AXBT 536 (SPARTON)</td>\n",
       "    </tr>\n",
       "    <tr>\n",
       "      <th>2</th>\n",
       "      <td>0.926575</td>\n",
       "      <td>0.970772</td>\n",
       "      <td>0.948159</td>\n",
       "      <td>247845</td>\n",
       "      <td>0.925051</td>\n",
       "      <td>0.971063</td>\n",
       "      <td>0.947499</td>\n",
       "      <td>61962</td>\n",
       "      <td>0.663117</td>\n",
       "      <td>0.962042</td>\n",
       "      <td>0.785088</td>\n",
       "      <td>36698</td>\n",
       "      <td>XBT: DEEP BLUE (SIPPICAN)</td>\n",
       "    </tr>\n",
       "    <tr>\n",
       "      <th>3</th>\n",
       "      <td>0.723790</td>\n",
       "      <td>0.470511</td>\n",
       "      <td>0.570294</td>\n",
       "      <td>763</td>\n",
       "      <td>0.654867</td>\n",
       "      <td>0.387435</td>\n",
       "      <td>0.486842</td>\n",
       "      <td>191</td>\n",
       "      <td>0.891892</td>\n",
       "      <td>0.507692</td>\n",
       "      <td>0.647059</td>\n",
       "      <td>65</td>\n",
       "      <td>XBT: DEEP BLUE (TSK - TSURUMI SEIKI Co.)</td>\n",
       "    </tr>\n",
       "    <tr>\n",
       "      <th>4</th>\n",
       "      <td>0.966145</td>\n",
       "      <td>0.828087</td>\n",
       "      <td>0.891804</td>\n",
       "      <td>3653</td>\n",
       "      <td>0.968193</td>\n",
       "      <td>0.831694</td>\n",
       "      <td>0.894768</td>\n",
       "      <td>915</td>\n",
       "      <td>0.812217</td>\n",
       "      <td>0.681214</td>\n",
       "      <td>0.740970</td>\n",
       "      <td>527</td>\n",
       "      <td>XBT: FAST DEEP (SIPPICAN)</td>\n",
       "    </tr>\n",
       "    <tr>\n",
       "      <th>5</th>\n",
       "      <td>0.000000</td>\n",
       "      <td>0.000000</td>\n",
       "      <td>0.000000</td>\n",
       "      <td>15</td>\n",
       "      <td>0.000000</td>\n",
       "      <td>0.000000</td>\n",
       "      <td>0.000000</td>\n",
       "      <td>4</td>\n",
       "      <td>0.000000</td>\n",
       "      <td>0.000000</td>\n",
       "      <td>0.000000</td>\n",
       "      <td>0</td>\n",
       "      <td>XBT: SUBMARINE-LAUNCHED EXPENDABLE BATHYTHERMO...</td>\n",
       "    </tr>\n",
       "    <tr>\n",
       "      <th>6</th>\n",
       "      <td>0.787477</td>\n",
       "      <td>0.797904</td>\n",
       "      <td>0.792656</td>\n",
       "      <td>29679</td>\n",
       "      <td>0.787051</td>\n",
       "      <td>0.799138</td>\n",
       "      <td>0.793048</td>\n",
       "      <td>7423</td>\n",
       "      <td>0.793911</td>\n",
       "      <td>0.664164</td>\n",
       "      <td>0.723264</td>\n",
       "      <td>6792</td>\n",
       "      <td>XBT: T10 (SIPPICAN)</td>\n",
       "    </tr>\n",
       "    <tr>\n",
       "      <th>7</th>\n",
       "      <td>0.000000</td>\n",
       "      <td>0.000000</td>\n",
       "      <td>0.000000</td>\n",
       "      <td>25</td>\n",
       "      <td>0.000000</td>\n",
       "      <td>0.000000</td>\n",
       "      <td>0.000000</td>\n",
       "      <td>6</td>\n",
       "      <td>0.000000</td>\n",
       "      <td>0.000000</td>\n",
       "      <td>0.000000</td>\n",
       "      <td>14</td>\n",
       "      <td>XBT: T10 (TSK - TSURUMI SEIKI Co.)</td>\n",
       "    </tr>\n",
       "    <tr>\n",
       "      <th>8</th>\n",
       "      <td>0.687500</td>\n",
       "      <td>0.027160</td>\n",
       "      <td>0.052257</td>\n",
       "      <td>405</td>\n",
       "      <td>1.000000</td>\n",
       "      <td>0.019608</td>\n",
       "      <td>0.038462</td>\n",
       "      <td>102</td>\n",
       "      <td>1.000000</td>\n",
       "      <td>0.222222</td>\n",
       "      <td>0.363636</td>\n",
       "      <td>18</td>\n",
       "      <td>XBT: T11 (SIPPICAN)</td>\n",
       "    </tr>\n",
       "    <tr>\n",
       "      <th>9</th>\n",
       "      <td>0.964605</td>\n",
       "      <td>0.962645</td>\n",
       "      <td>0.963624</td>\n",
       "      <td>325202</td>\n",
       "      <td>0.965546</td>\n",
       "      <td>0.963064</td>\n",
       "      <td>0.964304</td>\n",
       "      <td>81303</td>\n",
       "      <td>0.944104</td>\n",
       "      <td>0.900417</td>\n",
       "      <td>0.921743</td>\n",
       "      <td>46765</td>\n",
       "      <td>XBT: T4 (SIPPICAN)</td>\n",
       "    </tr>\n",
       "    <tr>\n",
       "      <th>10</th>\n",
       "      <td>0.897128</td>\n",
       "      <td>0.889944</td>\n",
       "      <td>0.893522</td>\n",
       "      <td>5370</td>\n",
       "      <td>0.895173</td>\n",
       "      <td>0.885160</td>\n",
       "      <td>0.890139</td>\n",
       "      <td>1341</td>\n",
       "      <td>0.879699</td>\n",
       "      <td>0.835714</td>\n",
       "      <td>0.857143</td>\n",
       "      <td>980</td>\n",
       "      <td>XBT: T4 (TSK - TSURUMI SEIKI Co.)</td>\n",
       "    </tr>\n",
       "    <tr>\n",
       "      <th>11</th>\n",
       "      <td>0.969107</td>\n",
       "      <td>0.701099</td>\n",
       "      <td>0.813600</td>\n",
       "      <td>10649</td>\n",
       "      <td>0.968654</td>\n",
       "      <td>0.707317</td>\n",
       "      <td>0.817610</td>\n",
       "      <td>2665</td>\n",
       "      <td>0.947410</td>\n",
       "      <td>0.459783</td>\n",
       "      <td>0.619110</td>\n",
       "      <td>2586</td>\n",
       "      <td>XBT: T5 (SIPPICAN)</td>\n",
       "    </tr>\n",
       "    <tr>\n",
       "      <th>12</th>\n",
       "      <td>0.968285</td>\n",
       "      <td>0.629916</td>\n",
       "      <td>0.763281</td>\n",
       "      <td>1551</td>\n",
       "      <td>0.967611</td>\n",
       "      <td>0.617571</td>\n",
       "      <td>0.753943</td>\n",
       "      <td>387</td>\n",
       "      <td>0.994118</td>\n",
       "      <td>0.438961</td>\n",
       "      <td>0.609009</td>\n",
       "      <td>385</td>\n",
       "      <td>XBT: T5 (TSK - TSURUMI SEIKI Co.)</td>\n",
       "    </tr>\n",
       "    <tr>\n",
       "      <th>13</th>\n",
       "      <td>0.761496</td>\n",
       "      <td>0.374545</td>\n",
       "      <td>0.502120</td>\n",
       "      <td>5217</td>\n",
       "      <td>0.783282</td>\n",
       "      <td>0.387739</td>\n",
       "      <td>0.518708</td>\n",
       "      <td>1305</td>\n",
       "      <td>0.724684</td>\n",
       "      <td>0.176425</td>\n",
       "      <td>0.283767</td>\n",
       "      <td>1298</td>\n",
       "      <td>XBT: T6 (SIPPICAN)</td>\n",
       "    </tr>\n",
       "    <tr>\n",
       "      <th>14</th>\n",
       "      <td>0.897012</td>\n",
       "      <td>0.785186</td>\n",
       "      <td>0.837383</td>\n",
       "      <td>12313</td>\n",
       "      <td>0.898217</td>\n",
       "      <td>0.786341</td>\n",
       "      <td>0.838564</td>\n",
       "      <td>3075</td>\n",
       "      <td>0.790236</td>\n",
       "      <td>0.841234</td>\n",
       "      <td>0.814938</td>\n",
       "      <td>1751</td>\n",
       "      <td>XBT: T6 (TSK - TSURUMI SEIKI Co.)</td>\n",
       "    </tr>\n",
       "    <tr>\n",
       "      <th>15</th>\n",
       "      <td>0.877712</td>\n",
       "      <td>0.826033</td>\n",
       "      <td>0.851089</td>\n",
       "      <td>134715</td>\n",
       "      <td>0.877140</td>\n",
       "      <td>0.824609</td>\n",
       "      <td>0.850064</td>\n",
       "      <td>33679</td>\n",
       "      <td>0.840032</td>\n",
       "      <td>0.569275</td>\n",
       "      <td>0.678645</td>\n",
       "      <td>42663</td>\n",
       "      <td>XBT: T7 (SIPPICAN)</td>\n",
       "    </tr>\n",
       "    <tr>\n",
       "      <th>16</th>\n",
       "      <td>0.922332</td>\n",
       "      <td>0.755250</td>\n",
       "      <td>0.830471</td>\n",
       "      <td>15142</td>\n",
       "      <td>0.922928</td>\n",
       "      <td>0.755943</td>\n",
       "      <td>0.831131</td>\n",
       "      <td>3786</td>\n",
       "      <td>0.844690</td>\n",
       "      <td>0.700254</td>\n",
       "      <td>0.765721</td>\n",
       "      <td>1965</td>\n",
       "      <td>XBT: T7 (TSK - TSURUMI SEIKI Co.)</td>\n",
       "    </tr>\n",
       "    <tr>\n",
       "      <th>17</th>\n",
       "      <td>0.000000</td>\n",
       "      <td>0.000000</td>\n",
       "      <td>0.000000</td>\n",
       "      <td>6</td>\n",
       "      <td>0.000000</td>\n",
       "      <td>0.000000</td>\n",
       "      <td>0.000000</td>\n",
       "      <td>1</td>\n",
       "      <td>0.000000</td>\n",
       "      <td>0.000000</td>\n",
       "      <td>0.000000</td>\n",
       "      <td>0</td>\n",
       "      <td>XBT: XBT-1 (SPARTON)</td>\n",
       "    </tr>\n",
       "    <tr>\n",
       "      <th>18</th>\n",
       "      <td>0.000000</td>\n",
       "      <td>0.000000</td>\n",
       "      <td>0.000000</td>\n",
       "      <td>348</td>\n",
       "      <td>0.000000</td>\n",
       "      <td>0.000000</td>\n",
       "      <td>0.000000</td>\n",
       "      <td>86</td>\n",
       "      <td>0.000000</td>\n",
       "      <td>0.000000</td>\n",
       "      <td>0.000000</td>\n",
       "      <td>1</td>\n",
       "      <td>XBT: XBT-10 (SPARTON)</td>\n",
       "    </tr>\n",
       "    <tr>\n",
       "      <th>19</th>\n",
       "      <td>0.925926</td>\n",
       "      <td>0.675676</td>\n",
       "      <td>0.781250</td>\n",
       "      <td>74</td>\n",
       "      <td>1.000000</td>\n",
       "      <td>0.666667</td>\n",
       "      <td>0.800000</td>\n",
       "      <td>18</td>\n",
       "      <td>0.000000</td>\n",
       "      <td>0.000000</td>\n",
       "      <td>0.000000</td>\n",
       "      <td>18</td>\n",
       "      <td>XBT: XBT-20 (SPARTON)</td>\n",
       "    </tr>\n",
       "    <tr>\n",
       "      <th>20</th>\n",
       "      <td>0.000000</td>\n",
       "      <td>0.000000</td>\n",
       "      <td>0.000000</td>\n",
       "      <td>1</td>\n",
       "      <td>0.000000</td>\n",
       "      <td>0.000000</td>\n",
       "      <td>0.000000</td>\n",
       "      <td>0</td>\n",
       "      <td>0.000000</td>\n",
       "      <td>0.000000</td>\n",
       "      <td>0.000000</td>\n",
       "      <td>2</td>\n",
       "      <td>XBT: XBT-20DB (SPARTON)</td>\n",
       "    </tr>\n",
       "    <tr>\n",
       "      <th>21</th>\n",
       "      <td>0.000000</td>\n",
       "      <td>0.000000</td>\n",
       "      <td>0.000000</td>\n",
       "      <td>92</td>\n",
       "      <td>0.000000</td>\n",
       "      <td>0.000000</td>\n",
       "      <td>0.000000</td>\n",
       "      <td>23</td>\n",
       "      <td>0.000000</td>\n",
       "      <td>0.000000</td>\n",
       "      <td>0.000000</td>\n",
       "      <td>76</td>\n",
       "      <td>XBT: XBT-3 (SPARTON)</td>\n",
       "    </tr>\n",
       "    <tr>\n",
       "      <th>22</th>\n",
       "      <td>0.000000</td>\n",
       "      <td>0.000000</td>\n",
       "      <td>0.000000</td>\n",
       "      <td>119</td>\n",
       "      <td>0.000000</td>\n",
       "      <td>0.000000</td>\n",
       "      <td>0.000000</td>\n",
       "      <td>30</td>\n",
       "      <td>0.000000</td>\n",
       "      <td>0.000000</td>\n",
       "      <td>0.000000</td>\n",
       "      <td>17</td>\n",
       "      <td>XBT: XBT-4 (SPARTON)</td>\n",
       "    </tr>\n",
       "    <tr>\n",
       "      <th>23</th>\n",
       "      <td>0.428571</td>\n",
       "      <td>0.089109</td>\n",
       "      <td>0.147541</td>\n",
       "      <td>101</td>\n",
       "      <td>0.666667</td>\n",
       "      <td>0.160000</td>\n",
       "      <td>0.258065</td>\n",
       "      <td>25</td>\n",
       "      <td>0.034483</td>\n",
       "      <td>0.111111</td>\n",
       "      <td>0.052632</td>\n",
       "      <td>27</td>\n",
       "      <td>XBT: XBT-5 (SPARTON)</td>\n",
       "    </tr>\n",
       "    <tr>\n",
       "      <th>24</th>\n",
       "      <td>0.000000</td>\n",
       "      <td>0.000000</td>\n",
       "      <td>0.000000</td>\n",
       "      <td>0</td>\n",
       "      <td>0.000000</td>\n",
       "      <td>0.000000</td>\n",
       "      <td>0.000000</td>\n",
       "      <td>0</td>\n",
       "      <td>0.000000</td>\n",
       "      <td>0.000000</td>\n",
       "      <td>0.000000</td>\n",
       "      <td>1</td>\n",
       "      <td>XBT: XBT-5DB (SPARTON)</td>\n",
       "    </tr>\n",
       "    <tr>\n",
       "      <th>25</th>\n",
       "      <td>0.000000</td>\n",
       "      <td>0.000000</td>\n",
       "      <td>0.000000</td>\n",
       "      <td>78</td>\n",
       "      <td>0.000000</td>\n",
       "      <td>0.000000</td>\n",
       "      <td>0.000000</td>\n",
       "      <td>18</td>\n",
       "      <td>0.000000</td>\n",
       "      <td>0.000000</td>\n",
       "      <td>0.000000</td>\n",
       "      <td>133</td>\n",
       "      <td>XBT: XBT-6 (SPARTON)</td>\n",
       "    </tr>\n",
       "    <tr>\n",
       "      <th>26</th>\n",
       "      <td>0.819121</td>\n",
       "      <td>0.662256</td>\n",
       "      <td>0.732384</td>\n",
       "      <td>2872</td>\n",
       "      <td>0.841241</td>\n",
       "      <td>0.642957</td>\n",
       "      <td>0.728854</td>\n",
       "      <td>717</td>\n",
       "      <td>0.748252</td>\n",
       "      <td>0.431452</td>\n",
       "      <td>0.547315</td>\n",
       "      <td>248</td>\n",
       "      <td>XBT: XBT-7 (SPARTON)</td>\n",
       "    </tr>\n",
       "  </tbody>\n",
       "</table>\n",
       "</div>"
      ],
      "text/plain": [
       "    precision_instr_train  recall_instr_train  f1_instr_train  \\\n",
       "0                0.000000            0.000000        0.000000   \n",
       "1                0.958810            0.939462        0.949037   \n",
       "2                0.926575            0.970772        0.948159   \n",
       "3                0.723790            0.470511        0.570294   \n",
       "4                0.966145            0.828087        0.891804   \n",
       "5                0.000000            0.000000        0.000000   \n",
       "6                0.787477            0.797904        0.792656   \n",
       "7                0.000000            0.000000        0.000000   \n",
       "8                0.687500            0.027160        0.052257   \n",
       "9                0.964605            0.962645        0.963624   \n",
       "10               0.897128            0.889944        0.893522   \n",
       "11               0.969107            0.701099        0.813600   \n",
       "12               0.968285            0.629916        0.763281   \n",
       "13               0.761496            0.374545        0.502120   \n",
       "14               0.897012            0.785186        0.837383   \n",
       "15               0.877712            0.826033        0.851089   \n",
       "16               0.922332            0.755250        0.830471   \n",
       "17               0.000000            0.000000        0.000000   \n",
       "18               0.000000            0.000000        0.000000   \n",
       "19               0.925926            0.675676        0.781250   \n",
       "20               0.000000            0.000000        0.000000   \n",
       "21               0.000000            0.000000        0.000000   \n",
       "22               0.000000            0.000000        0.000000   \n",
       "23               0.428571            0.089109        0.147541   \n",
       "24               0.000000            0.000000        0.000000   \n",
       "25               0.000000            0.000000        0.000000   \n",
       "26               0.819121            0.662256        0.732384   \n",
       "\n",
       "    support_instr_train  precision_instr_test  recall_instr_test  \\\n",
       "0                    70              0.000000           0.000000   \n",
       "1                   446              0.971698           0.927928   \n",
       "2                247845              0.925051           0.971063   \n",
       "3                   763              0.654867           0.387435   \n",
       "4                  3653              0.968193           0.831694   \n",
       "5                    15              0.000000           0.000000   \n",
       "6                 29679              0.787051           0.799138   \n",
       "7                    25              0.000000           0.000000   \n",
       "8                   405              1.000000           0.019608   \n",
       "9                325202              0.965546           0.963064   \n",
       "10                 5370              0.895173           0.885160   \n",
       "11                10649              0.968654           0.707317   \n",
       "12                 1551              0.967611           0.617571   \n",
       "13                 5217              0.783282           0.387739   \n",
       "14                12313              0.898217           0.786341   \n",
       "15               134715              0.877140           0.824609   \n",
       "16                15142              0.922928           0.755943   \n",
       "17                    6              0.000000           0.000000   \n",
       "18                  348              0.000000           0.000000   \n",
       "19                   74              1.000000           0.666667   \n",
       "20                    1              0.000000           0.000000   \n",
       "21                   92              0.000000           0.000000   \n",
       "22                  119              0.000000           0.000000   \n",
       "23                  101              0.666667           0.160000   \n",
       "24                    0              0.000000           0.000000   \n",
       "25                   78              0.000000           0.000000   \n",
       "26                 2872              0.841241           0.642957   \n",
       "\n",
       "    f1_instr_test  support_instr_test  precision_instr_unseen  \\\n",
       "0        0.000000                  19                0.000000   \n",
       "1        0.949309                 111                0.068301   \n",
       "2        0.947499               61962                0.663117   \n",
       "3        0.486842                 191                0.891892   \n",
       "4        0.894768                 915                0.812217   \n",
       "5        0.000000                   4                0.000000   \n",
       "6        0.793048                7423                0.793911   \n",
       "7        0.000000                   6                0.000000   \n",
       "8        0.038462                 102                1.000000   \n",
       "9        0.964304               81303                0.944104   \n",
       "10       0.890139                1341                0.879699   \n",
       "11       0.817610                2665                0.947410   \n",
       "12       0.753943                 387                0.994118   \n",
       "13       0.518708                1305                0.724684   \n",
       "14       0.838564                3075                0.790236   \n",
       "15       0.850064               33679                0.840032   \n",
       "16       0.831131                3786                0.844690   \n",
       "17       0.000000                   1                0.000000   \n",
       "18       0.000000                  86                0.000000   \n",
       "19       0.800000                  18                0.000000   \n",
       "20       0.000000                   0                0.000000   \n",
       "21       0.000000                  23                0.000000   \n",
       "22       0.000000                  30                0.000000   \n",
       "23       0.258065                  25                0.034483   \n",
       "24       0.000000                   0                0.000000   \n",
       "25       0.000000                  18                0.000000   \n",
       "26       0.728854                 717                0.748252   \n",
       "\n",
       "    recall_instr_unseen  f1_instr_unseen  support_instr_unseen  \\\n",
       "0              0.000000         0.000000                    16   \n",
       "1              0.857143         0.126521                    91   \n",
       "2              0.962042         0.785088                 36698   \n",
       "3              0.507692         0.647059                    65   \n",
       "4              0.681214         0.740970                   527   \n",
       "5              0.000000         0.000000                     0   \n",
       "6              0.664164         0.723264                  6792   \n",
       "7              0.000000         0.000000                    14   \n",
       "8              0.222222         0.363636                    18   \n",
       "9              0.900417         0.921743                 46765   \n",
       "10             0.835714         0.857143                   980   \n",
       "11             0.459783         0.619110                  2586   \n",
       "12             0.438961         0.609009                   385   \n",
       "13             0.176425         0.283767                  1298   \n",
       "14             0.841234         0.814938                  1751   \n",
       "15             0.569275         0.678645                 42663   \n",
       "16             0.700254         0.765721                  1965   \n",
       "17             0.000000         0.000000                     0   \n",
       "18             0.000000         0.000000                     1   \n",
       "19             0.000000         0.000000                    18   \n",
       "20             0.000000         0.000000                     2   \n",
       "21             0.000000         0.000000                    76   \n",
       "22             0.000000         0.000000                    17   \n",
       "23             0.111111         0.052632                    27   \n",
       "24             0.000000         0.000000                     1   \n",
       "25             0.000000         0.000000                   133   \n",
       "26             0.431452         0.547315                   248   \n",
       "\n",
       "                                           instrument  \n",
       "0                 XBT: AXBT (TSK - TSURUMI SEIKI Co.)  \n",
       "1                             XBT: AXBT 536 (SPARTON)  \n",
       "2                           XBT: DEEP BLUE (SIPPICAN)  \n",
       "3            XBT: DEEP BLUE (TSK - TSURUMI SEIKI Co.)  \n",
       "4                           XBT: FAST DEEP (SIPPICAN)  \n",
       "5   XBT: SUBMARINE-LAUNCHED EXPENDABLE BATHYTHERMO...  \n",
       "6                                 XBT: T10 (SIPPICAN)  \n",
       "7                  XBT: T10 (TSK - TSURUMI SEIKI Co.)  \n",
       "8                                 XBT: T11 (SIPPICAN)  \n",
       "9                                  XBT: T4 (SIPPICAN)  \n",
       "10                  XBT: T4 (TSK - TSURUMI SEIKI Co.)  \n",
       "11                                 XBT: T5 (SIPPICAN)  \n",
       "12                  XBT: T5 (TSK - TSURUMI SEIKI Co.)  \n",
       "13                                 XBT: T6 (SIPPICAN)  \n",
       "14                  XBT: T6 (TSK - TSURUMI SEIKI Co.)  \n",
       "15                                 XBT: T7 (SIPPICAN)  \n",
       "16                  XBT: T7 (TSK - TSURUMI SEIKI Co.)  \n",
       "17                               XBT: XBT-1 (SPARTON)  \n",
       "18                              XBT: XBT-10 (SPARTON)  \n",
       "19                              XBT: XBT-20 (SPARTON)  \n",
       "20                            XBT: XBT-20DB (SPARTON)  \n",
       "21                               XBT: XBT-3 (SPARTON)  \n",
       "22                               XBT: XBT-4 (SPARTON)  \n",
       "23                               XBT: XBT-5 (SPARTON)  \n",
       "24                             XBT: XBT-5DB (SPARTON)  \n",
       "25                               XBT: XBT-6 (SPARTON)  \n",
       "26                               XBT: XBT-7 (SPARTON)  "
      ]
     },
     "execution_count": 31,
     "metadata": {},
     "output_type": "execute_result"
    }
   ],
   "source": [
    "df_metrics_per_class_instr"
   ]
  },
  {
   "cell_type": "code",
   "execution_count": 32,
   "metadata": {},
   "outputs": [
    {
     "data": {
      "image/png": "[encoded data removed]",
      "text/plain": [
       "<Figure size 1152x576 with 2 Axes>"
      ]
     },
     "metadata": {
      "needs_background": "light"
     },
     "output_type": "display_data"
    }
   ],
   "source": [
    "fig_results_all_dt = matplotlib.pyplot.figure('xbt_results_all_dt', figsize=(16,8))\n",
    "axis_instr_metrics = fig_results_all_dt.add_subplot(121)\n",
    "_ = df_metrics_per_class_instr.plot.bar(x='instrument', y=['recall_instr_train','recall_instr_test','recall_instr_unseen'],ax=axis_instr_metrics)\n",
    "axis_instr_support = fig_results_all_dt.add_subplot(122)\n",
    "_ = df_metrics_per_class_instr.plot.bar(x='instrument',y=['support_instr_train', 'support_instr_test', 'support_instr_unseen'], ax=axis_instr_support)\n"
   ]
  },
  {
   "cell_type": "code",
   "execution_count": 33,
   "metadata": {},
   "outputs": [
    {
     "data": {
      "text/plain": [
       "<matplotlib.axes._subplots.AxesSubplot at 0x7f753c956070>"
      ]
     },
     "execution_count": 33,
     "metadata": {},
     "output_type": "execute_result"
    },
    {
     "data": {
      "image/png": "[encoded data removed]",
      "text/plain": [
       "<Figure size 1296x864 with 1 Axes>"
      ]
     },
     "metadata": {
      "needs_background": "light"
     },
     "output_type": "display_data"
    }
   ],
   "source": [
    "df_metrics_avg.plot.bar(figsize=(18,12), x='target', y='recall')"
   ]
  },
  {
   "cell_type": "markdown",
   "metadata": {},
   "source": [
    "## Classification results\n",
    "\n",
    "The contents of the XBT dataset varies over the time period, so previous papers have looked at classification accuracy (recall) year by year to evaluate how performance varies with different distribution of probe types.\n",
    "\n",
    "To do this we apply the classifier to the train and test data for each year separetly and calculate the metrics year by year."
   ]
  },
  {
   "cell_type": "code",
   "execution_count": 59,
   "metadata": {},
   "outputs": [],
   "source": [
    "def score_year(xbt_df, year, clf, input_features, target_feature):\n",
    "    profiles_year = xbt_df.filter_obs({'year': year}, )\n",
    "    if profiles_year.shape[0] == 0:\n",
    "        return [0.0, 0.0, 0.0, 1]\n",
    "    X_year = profiles_year.filter_features(input_features).get_ml_dataset()[0]\n",
    "    y_year = profiles_year.filter_features([target_feature]).get_ml_dataset()[0]\n",
    "    y_res_year = clf.predict(X_year)\n",
    "    metric_year = sklearn.metrics.precision_recall_fscore_support(\n",
    "        y_year, y_res_year, average='micro')\n",
    "    return metric_year"
   ]
  },
  {
   "cell_type": "code",
   "execution_count": 61,
   "metadata": {},
   "outputs": [
    {
     "data": {
      "application/vnd.jupyter.widget-view+json": {
       "model_id": "a7a32c4028f94b1cb1780498d5cee684",
       "version_major": 2,
       "version_minor": 0
      },
      "text/plain": [
       "IntProgress(value=1966, bar_style='info', description='Evaluating', max=2015, min=1966)"
      ]
     },
     "metadata": {},
     "output_type": "display_data"
    }
   ],
   "source": [
    "eval_progress = ipywidgets.IntProgress(min=env_date_ranges[environment][0],\n",
    "                                           max= env_date_ranges[environment][1],\n",
    "                                          description='Evaluating',\n",
    "                                          bar_style='info')\n",
    "eval_progress"
   ]
  },
  {
   "cell_type": "code",
   "execution_count": 62,
   "metadata": {},
   "outputs": [
    {
     "name": "stdout",
     "output_type": "stream",
     "text": [
      "CPU times: user 54.2 s, sys: 1min 48s, total: 2min 42s\n",
      "Wall time: 12.6 s\n"
     ]
    }
   ],
   "source": [
    "%%time\n",
    "results_by_year = {}\n",
    "for year in range(env_date_ranges[environment][0],env_date_ranges[environment][1]):\n",
    "    results_by_year[year] = {\n",
    "        'metric_train_instr' : score_year(xbt_train_all, year, clf_dt_instr1, input_feature_names, 'instrument'),\n",
    "        'metric_test_instr' : score_year(xbt_test_all, year, clf_dt_instr1, input_feature_names,'instrument'),\n",
    "        'metric_unseen_instr' : score_year(xbt_unseen, year, clf_dt_instr1, input_feature_names, 'instrument'),\n",
    "    }\n",
    "    eval_progress.value = year\n"
   ]
  },
  {
   "cell_type": "code",
   "execution_count": 63,
   "metadata": {},
   "outputs": [],
   "source": [
    "recall_by_year = pandas.DataFrame.from_dict({ \n",
    "    'year':  list(results_by_year.keys()),\n",
    "    'recall_train_instr' : [m1['metric_train_instr'][1] for y1,m1 in results_by_year.items()],\n",
    "    'recall_test_instr' : [m1['metric_test_instr'][1] for y1,m1 in results_by_year.items()],\n",
    "    'recall_unseen_instr' : [m1['metric_unseen_instr'][1] for y1,m1 in results_by_year.items()],\n",
    "})\n"
   ]
  },
  {
   "cell_type": "code",
   "execution_count": 64,
   "metadata": {},
   "outputs": [],
   "source": [
    "instr_encoder = xbt_labelled._feature_encoders['instrument']"
   ]
  },
  {
   "cell_type": "code",
   "execution_count": 65,
   "metadata": {},
   "outputs": [
    {
     "name": "stdout",
     "output_type": "stream",
     "text": [
      "CPU times: user 5.84 s, sys: 146 ms, total: 5.99 s\n",
      "Wall time: 5.7 s\n"
     ]
    }
   ],
   "source": [
    "%%time\n",
    "eval_progress.value = env_date_ranges[environment][0]\n",
    "imeta_results = []\n",
    "for year in range(env_date_ranges[environment][0],env_date_ranges[environment][1]):\n",
    "    y_imeta_instr = instr_encoder.transform(pandas.DataFrame(imeta_instrument[xbt_labelled.xbt_df.year == year]))\n",
    "    xbt_instr1 = instr_encoder.transform(pandas.DataFrame(xbt_labelled.xbt_df[xbt_labelled.xbt_df.year == year].instrument))\n",
    "    \n",
    "    \n",
    "    (im_pr_instr, im_rec_instr, im_f1_instr, im_sup_instr) = sklearn.metrics.precision_recall_fscore_support(xbt_instr1, y_imeta_instr,average='micro')\n",
    "\n",
    "    imeta_results += [{'year': year,\n",
    "                       'imeta_instr_recall': im_rec_instr,\n",
    "                       'imeta_instr_precision': im_pr_instr,\n",
    "                      }]\n",
    "    eval_progress.value = year"
   ]
  },
  {
   "cell_type": "code",
   "execution_count": 66,
   "metadata": {},
   "outputs": [],
   "source": [
    "imeta_res_df = pandas.DataFrame.from_records(imeta_results)"
   ]
  },
  {
   "cell_type": "code",
   "execution_count": 67,
   "metadata": {},
   "outputs": [],
   "source": [
    "results_df = pandas.merge(recall_by_year, imeta_res_df).merge(\n",
    "    pandas.DataFrame.from_dict({\n",
    "        'year': xbt_labelled['year'].value_counts(sort=False).index,\n",
    "        'num_samples': xbt_labelled['year'].value_counts(sort=False).values,\n",
    "    }))"
   ]
  },
  {
   "cell_type": "code",
   "execution_count": 68,
   "metadata": {},
   "outputs": [
    {
     "data": {
      "image/png": "[encoded data removed]",
      "text/plain": [
       "<Figure size 864x864 with 1 Axes>"
      ]
     },
     "metadata": {
      "needs_background": "light"
     },
     "output_type": "display_data"
    }
   ],
   "source": [
    "fig_model_recall_results = matplotlib.pyplot.figure('xbt_model_recall', figsize=(12,12))\n",
    "ax_instr_recall_results = fig_model_recall_results.add_subplot(111, title='XBT instrument recall results')\n",
    "_ = results_df.plot.line(x='year',y=['recall_train_instr','recall_test_instr', 'recall_unseen_instr', 'imeta_instr_recall'], ax=ax_instr_recall_results)"
   ]
  },
  {
   "cell_type": "code",
   "execution_count": 69,
   "metadata": {},
   "outputs": [],
   "source": [
    "results_df['improvement_instr'] = results_df.apply(lambda r1: ((r1['recall_test_instr'] /  r1['imeta_instr_recall'])-1)*100.0 , axis=1)"
   ]
  },
  {
   "cell_type": "code",
   "execution_count": 70,
   "metadata": {},
   "outputs": [
    {
     "data": {
      "image/png": "[encoded data removed]",
      "text/plain": [
       "<Figure size 1152x1152 with 2 Axes>"
      ]
     },
     "metadata": {
      "needs_background": "light"
     },
     "output_type": "display_data"
    }
   ],
   "source": [
    "fig_num_samples_per_year = matplotlib.pyplot.figure('fig_num_samples_per_year', figsize=(16,16))\n",
    "ax_num_samples = fig_num_samples_per_year.add_subplot(121, title='number of samples per year')\n",
    "_ = results_df.plot.line(ax=ax_num_samples, x='year',y=['num_samples'],c='purple' )\n",
    "ax_instr_improv = fig_num_samples_per_year.add_subplot(122, title='improvement instrument per year')\n",
    "_ = results_df.plot.line(ax=ax_instr_improv, x='year',y=['improvement_instr'], c='green' )\n"
   ]
  },
  {
   "cell_type": "code",
   "execution_count": 71,
   "metadata": {},
   "outputs": [],
   "source": [
    "results_df.to_csv(os.path.join(result_dir,result_fname_template.format(classifier=classifier_name,\n",
    "                                                                       suffix=suffix)))"
   ]
  },
  {
   "cell_type": "markdown",
   "metadata": {},
   "source": [
    "### Outputing the data\n",
    "\n",
    "To filter based on what profiles we can use for predicting, we need some way of checking each profile we create these checkers from the labelled dataset, because the subset of data that was used for training determines what subset is valid for prediction. For example, if a country is not present in the training data, then the prediction function won't be able to handle that profile to predict a probe model and manufacturer. Profiles that are not handled by the trained classifier will get the label \"UNKNOWN\".\n"
   ]
  },
  {
   "cell_type": "code",
   "execution_count": 72,
   "metadata": {},
   "outputs": [],
   "source": [
    "# checker functions check each element of the profile metadata that could be a problem. The checkers are constructed from the labelled data subset.\n",
    "checkers_labelled = {f1: c1 for f1, c1 in xbt_labelled.get_checkers().items() if f1 in input_feature_names}"
   ]
  },
  {
   "cell_type": "code",
   "execution_count": 73,
   "metadata": {},
   "outputs": [],
   "source": [
    "result_feature_name = 'instrument_res_dt'"
   ]
  },
  {
   "cell_type": "code",
   "execution_count": 74,
   "metadata": {},
   "outputs": [],
   "source": [
    "xbt_predictable = xbt_full_dataset.filter_predictable(checkers_labelled)"
   ]
  },
  {
   "cell_type": "code",
   "execution_count": 75,
   "metadata": {},
   "outputs": [],
   "source": [
    "res_ml1 = clf_dt_instr1.predict(xbt_predictable.filter_features(input_feature_names).get_ml_dataset()[0])\n",
    "res2 = list(xbt_labelled._feature_encoders['instrument'].inverse_transform(res_ml1).reshape(-1))"
   ]
  },
  {
   "cell_type": "code",
   "execution_count": 76,
   "metadata": {},
   "outputs": [],
   "source": [
    "xbt_predictable.xbt_df[result_feature_name] = res2"
   ]
  },
  {
   "cell_type": "code",
   "execution_count": 77,
   "metadata": {},
   "outputs": [],
   "source": [
    "xbt_full_dataset.merge_features(xbt_predictable, [result_feature_name],\n",
    "                               fill_values = {result_feature_name: UNKNOWN_STR},\n",
    "                               encoders={result_feature_name: xbt_labelled._feature_encoders['instrument']},\n",
    "                               output_formatters={result_feature_name: cat_output_formatter})"
   ]
  },
  {
   "cell_type": "code",
   "execution_count": 78,
   "metadata": {},
   "outputs": [],
   "source": [
    "xbt_full_dataset.output_data(os.path.join(output_dir, output_fname_template.format(classifier=classifier_name,\n",
    "                                                                                  suffix=suffix)),\n",
    "                             add_ml_features=[result_feature_name])"
   ]
  },
  {
   "cell_type": "markdown",
   "metadata": {},
   "source": [
    "## Summary\n",
    "We can see so far that the basic tree approach seems to be outperforming iMeta. Further work needs to be done to calculate these results more rigorously  using cross validation. \n",
    "\n",
    "The next step is to explore more sophisticated tree based approaches, such an ensemble of trees (random forest) and gredient-bossted tress (XGBoost),the current state of the art in tree methods.\n",
    "\n",
    "There are also some issues with the dataset currently being used, so these results may change when the correct version of the data is being used."
   ]
  }
 ],
 "metadata": {
  "kernelspec": {
   "display_name": "XBT test 20200128",
   "language": "python",
   "name": "xbt_test_20200128"
  },
  "language_info": {
   "codemirror_mode": {
    "name": "ipython",
    "version": 3
   },
   "file_extension": ".py",
   "mimetype": "text/x-python",
   "name": "python",
   "nbconvert_exporter": "python",
   "pygments_lexer": "ipython3",
   "version": "3.8.1"
  }
 },
 "nbformat": 4,
 "nbformat_minor": 4
}
