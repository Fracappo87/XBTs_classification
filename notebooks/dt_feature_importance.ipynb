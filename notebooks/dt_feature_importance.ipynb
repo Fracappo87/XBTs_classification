{
 "cells": [
  {
   "cell_type": "markdown",
   "metadata": {},
   "source": [
    "# Decisions Trees - Feature Importance\n",
    "\n",
    "This notebook demonstrates evaluating the relative importance of difference features that we might use as input to our machine learning models. We will use the scikit-learn `permutation_feature_importance` algorithm to determine which are the most important input features.\n",
    "\n",
    "This algorithm works by adding random to noise to inpout features and testing how much performance is degraded by the degradation of input data. This is done for each input variable in turn. If a variable is important, when it is degraded by random noise, there will be a significant degradation in classification accuracy. Conversely, if a feature is nopt important to the classification algorithm, then the added noise will not result in much change to the classification accuracy in the resulting trained model. \n",
    "\n",
    "https://scikit-learn.org/stable/modules/permutation_importance.html"
   ]
  },
  {
   "cell_type": "code",
   "execution_count": 1,
   "metadata": {},
   "outputs": [],
   "source": [
    "import os\n",
    "import sys\n",
    "import pathlib\n",
    "import functools\n",
    "\n",
    "import pandas\n",
    "import numpy\n",
    "\n",
    "import matplotlib\n",
    "import matplotlib.pyplot\n",
    "import warnings\n",
    "warnings.filterwarnings('ignore')"
   ]
  },
  {
   "cell_type": "code",
   "execution_count": 2,
   "metadata": {},
   "outputs": [],
   "source": [
    "import ipywidgets\n",
    "import time"
   ]
  },
  {
   "cell_type": "code",
   "execution_count": 3,
   "metadata": {},
   "outputs": [],
   "source": [
    "import sklearn\n",
    "import sklearn.model_selection\n",
    "import sklearn.preprocessing\n",
    "import sklearn.tree\n",
    "import sklearn.metrics\n",
    "import sklearn.inspection"
   ]
  },
  {
   "cell_type": "code",
   "execution_count": 4,
   "metadata": {},
   "outputs": [],
   "source": [
    "root_repo_dir = pathlib.Path().absolute().parent\n",
    "sys.path = [os.path.join(root_repo_dir)] + sys.path"
   ]
  },
  {
   "cell_type": "code",
   "execution_count": 5,
   "metadata": {},
   "outputs": [],
   "source": [
    "import xbt.dataset\n",
    "from xbt.dataset import XbtDataset, UNKNOWN_STR, cat_output_formatter, check_value_found\n",
    "from xbt.imeta import imeta_classification, XBT_MAX_DEPTH"
   ]
  },
  {
   "cell_type": "code",
   "execution_count": 6,
   "metadata": {},
   "outputs": [],
   "source": [
    "# Set up some site specific parameters for the notebook\n",
    "try:\n",
    "    environment = os.environ['XBT_ENV_NAME']\n",
    "except KeyError:\n",
    "    environment = 'pangeo'"
   ]
  },
  {
   "cell_type": "code",
   "execution_count": 7,
   "metadata": {},
   "outputs": [],
   "source": [
    "root_data_dirs = {\n",
    "    'MO_scitools': '/data/users/shaddad/xbt-data/',\n",
    "    'pangeo': '/data/misc/xbt-data/',\n",
    "}\n",
    "env_date_ranges = {\n",
    "    'MO_scitools': (1966,2015),\n",
    "    'pangeo': (1966,2015)\n",
    "}"
   ]
  },
  {
   "cell_type": "code",
   "execution_count": 8,
   "metadata": {},
   "outputs": [],
   "source": [
    "# Set up some dataset specific parameters\n",
    "root_data_dir = root_data_dirs[environment]\n",
    "year_range = env_date_ranges[environment]"
   ]
  },
  {
   "cell_type": "code",
   "execution_count": 9,
   "metadata": {},
   "outputs": [
    {
     "data": {
      "text/plain": [
       "'/data/users/shaddad/xbt-data/'"
      ]
     },
     "execution_count": 9,
     "metadata": {},
     "output_type": "execute_result"
    }
   ],
   "source": [
    "root_data_dir"
   ]
  },
  {
   "cell_type": "code",
   "execution_count": 10,
   "metadata": {},
   "outputs": [],
   "source": [
    "cv_metric_names = ['f1_weighted','precision_weighted','recall_weighted']\n",
    "input_feature_names = ['country','max_depth', 'year', 'lat', 'lon']"
   ]
  },
  {
   "cell_type": "code",
   "execution_count": 11,
   "metadata": {},
   "outputs": [],
   "source": [
    "input_dir_name = 'csv_with_imeta'\n",
    "exp_out_dir_name = 'experiment_outputs'"
   ]
  },
  {
   "cell_type": "code",
   "execution_count": 12,
   "metadata": {},
   "outputs": [],
   "source": [
    "experiment_name = 'nb_single_decisionTree_country'\n",
    "classifier_class = sklearn.tree.DecisionTreeClassifier\n",
    "classifier_name = 'decision_tree'\n",
    "suffix='countryAndLatLon'"
   ]
  },
  {
   "cell_type": "code",
   "execution_count": 13,
   "metadata": {},
   "outputs": [],
   "source": [
    "classifier_opts = {'max_depth': 20,\n",
    "                   'min_samples_leaf': 1,\n",
    "                   'criterion': 'gini'\n",
    "                  }"
   ]
  },
  {
   "cell_type": "code",
   "execution_count": 14,
   "metadata": {},
   "outputs": [],
   "source": [
    "xbt_input_dir = os.path.join(root_data_dir, input_dir_name)\n",
    "xbt_output_dir = os.path.join(root_data_dir, exp_out_dir_name, experiment_name)"
   ]
  },
  {
   "cell_type": "code",
   "execution_count": 15,
   "metadata": {},
   "outputs": [
    {
     "name": "stdout",
     "output_type": "stream",
     "text": [
      "outputting to /data/users/shaddad/xbt-data/experiment_outputs/nb_single_decisionTree_country\n"
     ]
    }
   ],
   "source": [
    "# create the output for this experiment if it doesn't exist\n",
    "if not os.path.isdir(xbt_output_dir):\n",
    "    os.makedirs(xbt_output_dir)\n",
    "print(f'outputting to {xbt_output_dir}')"
   ]
  },
  {
   "cell_type": "code",
   "execution_count": 16,
   "metadata": {},
   "outputs": [],
   "source": [
    "output_fname_template = 'xbt_output_{exp_name}_{subset}.csv'\n",
    "result_fname_template = 'xbt_metrics_{classifier}_{suffix}.csv'"
   ]
  },
  {
   "cell_type": "code",
   "execution_count": 17,
   "metadata": {},
   "outputs": [
    {
     "name": "stdout",
     "output_type": "stream",
     "text": [
      "CPU times: user 52.6 s, sys: 14.3 s, total: 1min 6s\n",
      "Wall time: 1min 16s\n"
     ]
    }
   ],
   "source": [
    "%%time\n",
    "xbt_full_dataset = XbtDataset(xbt_input_dir, year_range)"
   ]
  },
  {
   "cell_type": "markdown",
   "metadata": {},
   "source": [
    "## Data preparation\n",
    "\n",
    "We are only testing on the labelled data, to be able to evluate performance. The XbtDataset class has filtered out some bad data including profiles with maximum depths less that 0.0 or greater than 2000.0. There were also some profiles with bad date entries, which have been excluded for now."
   ]
  },
  {
   "cell_type": "code",
   "execution_count": 18,
   "metadata": {},
   "outputs": [
    {
     "name": "stdout",
     "output_type": "stream",
     "text": [
      "CPU times: user 206 ms, sys: 20.4 ms, total: 226 ms\n",
      "Wall time: 224 ms\n"
     ]
    }
   ],
   "source": [
    "%%time\n",
    "xbt_labelled = xbt_full_dataset.filter_obs({'labelled': 'labelled'})"
   ]
  },
  {
   "cell_type": "code",
   "execution_count": 19,
   "metadata": {},
   "outputs": [],
   "source": [
    "xbt_unlabelled = xbt_full_dataset.filter_obs({'labelled': 'unlabelled'})"
   ]
  },
  {
   "cell_type": "code",
   "execution_count": 20,
   "metadata": {},
   "outputs": [],
   "source": [
    "_ = xbt_labelled.get_ml_dataset(return_data = False)"
   ]
  },
  {
   "cell_type": "code",
   "execution_count": 21,
   "metadata": {},
   "outputs": [],
   "source": [
    "_ = xbt_labelled.filter_features(['instrument','model','manufacturer']).encode_target(return_data = False)"
   ]
  },
  {
   "cell_type": "code",
   "execution_count": 22,
   "metadata": {},
   "outputs": [
    {
     "name": "stdout",
     "output_type": "stream",
     "text": [
      "CPU times: user 21.4 ms, sys: 1.1 ms, total: 22.5 ms\n",
      "Wall time: 21.1 ms\n"
     ]
    }
   ],
   "source": [
    "%%time\n",
    "unseen_cruise_numbers = xbt_labelled.sample_feature_values('cruise_number', fraction=0.1)"
   ]
  },
  {
   "cell_type": "code",
   "execution_count": 23,
   "metadata": {},
   "outputs": [
    {
     "name": "stdout",
     "output_type": "stream",
     "text": [
      "CPU times: user 9.87 s, sys: 1.56 ms, total: 9.87 s\n",
      "Wall time: 9.87 s\n"
     ]
    }
   ],
   "source": [
    "%%time\n",
    "xbt_unseen = xbt_labelled.filter_obs({'cruise_number': unseen_cruise_numbers}, mode='include', check_type='in_filter_set')\n",
    "xbt_working = xbt_labelled.filter_obs({'cruise_number': unseen_cruise_numbers}, mode='exclude', check_type='in_filter_set')"
   ]
  },
  {
   "cell_type": "code",
   "execution_count": 24,
   "metadata": {},
   "outputs": [],
   "source": [
    "imeta_classes = xbt_labelled.xbt_df.apply(imeta_classification, axis=1)\n",
    "imeta_model = imeta_classes.apply(lambda t1: t1[0])\n",
    "imeta_manufacturer = imeta_classes.apply(lambda t1: t1[1])"
   ]
  },
  {
   "cell_type": "code",
   "execution_count": 25,
   "metadata": {},
   "outputs": [],
   "source": [
    "imeta_instrument = imeta_classes.apply(lambda t1: f'XBT: {t1[0]} ({t1[1]})') "
   ]
  },
  {
   "cell_type": "markdown",
   "metadata": {},
   "source": [
    "We are currently training and evaulating separately for model and manufacturer. We will also need to train and evaulate together as this is ultimately what is wanted (a combined probe model and manufacturer field).\n",
    "\n",
    "We are using the default 80/20 split in scikit-learn for now. Further work will need to do proper cross validation where several different splits are randomly selected to verify our results are not an artifact of the randomly chosen split."
   ]
  },
  {
   "cell_type": "code",
   "execution_count": 26,
   "metadata": {},
   "outputs": [
    {
     "name": "stdout",
     "output_type": "stream",
     "text": [
      "CPU times: user 2min 1s, sys: 22.8 s, total: 2min 23s\n",
      "Wall time: 2min 23s\n"
     ]
    }
   ],
   "source": [
    "%%time\n",
    "xbt_train_all, xbt_test_all = xbt_working.train_test_split(refresh=True, features=['instrument', 'year'])"
   ]
  },
  {
   "cell_type": "code",
   "execution_count": 27,
   "metadata": {},
   "outputs": [],
   "source": [
    "X_train_all, _, _, _, feature_names = xbt_train_all.filter_features(input_feature_names).get_ml_dataset()\n",
    "X_test_all = xbt_test_all.filter_features(input_feature_names).get_ml_dataset()[0]\n",
    "X_unseen_all = xbt_unseen.filter_features(input_feature_names).get_ml_dataset()[0]\n",
    "y_instr_train_all = xbt_train_all.filter_features(['instrument']).get_ml_dataset()[0]\n",
    "y_instr_test_all = xbt_test_all.filter_features(['instrument']).get_ml_dataset()[0]\n",
    "y_instr_unseen_all = xbt_unseen.filter_features(['instrument']).get_ml_dataset()[0]"
   ]
  },
  {
   "cell_type": "markdown",
   "metadata": {},
   "source": [
    "## Training the classifier\n",
    "\n",
    "We are using the scikit-learn classifier as the closest analogue to the structure of the iMeta algorithm. This tree can have many more nodes and leaves than iMeta though. it is quick to train and evaluate so it is a useful starting point for setting up the ML processing pipelines, as all the scikit-learn classifiers have a common interface. \n",
    "\n",
    "For the model and manufacturer, we train a Decision ree Classifier, then use it to predict values for the train and test sets. We then calculate the accuracy metrics for each for the whole dataset. \n",
    "\n",
    "I am using precision, recall and F1 as fairly standard ML metrics of accuracy. Recall is what has been used in the two previous papers (Palmer et. al, Leahy and Llopis et al) so that is the focus. Support is a useful to see what proportion of the profiles in the dataset belong to each of the different classes."
   ]
  },
  {
   "cell_type": "code",
   "execution_count": 28,
   "metadata": {},
   "outputs": [],
   "source": [
    "metrics_per_class_all = {}\n",
    "metrics_avg_all = {}"
   ]
  },
  {
   "cell_type": "code",
   "execution_count": 29,
   "metadata": {},
   "outputs": [
    {
     "data": {
      "text/plain": [
       "DecisionTreeClassifier(max_depth=20)"
      ]
     },
     "execution_count": 29,
     "metadata": {},
     "output_type": "execute_result"
    }
   ],
   "source": [
    "clf_dt_instr1 = classifier_class(**classifier_opts)\n",
    "clf_dt_instr1.fit(X_train_all,y_instr_train_all)"
   ]
  },
  {
   "cell_type": "code",
   "execution_count": 30,
   "metadata": {},
   "outputs": [
    {
     "name": "stdout",
     "output_type": "stream",
     "text": [
      "CPU times: user 48.5 s, sys: 30 s, total: 1min 18s\n",
      "Wall time: 1min 18s\n"
     ]
    }
   ],
   "source": [
    "%%time\n",
    "importances_dict = sklearn.inspection.permutation_importance(\n",
    "    clf_dt_instr1,\n",
    "    X_test_all,\n",
    "    y_instr_test_all,\n",
    "    n_repeats=10,\n",
    "    random_state=0,\n",
    ")    "
   ]
  },
  {
   "cell_type": "code",
   "execution_count": 31,
   "metadata": {},
   "outputs": [],
   "source": [
    "importance_df = pandas.DataFrame({\n",
    "    'features': feature_names,\n",
    "    'importances_mean': importances_dict['importances_mean'],\n",
    "})"
   ]
  },
  {
   "cell_type": "code",
   "execution_count": 32,
   "metadata": {},
   "outputs": [
    {
     "data": {
      "text/plain": [
       "<AxesSubplot:title={'center':'XBT Feature importance'}, xlabel='features'>"
      ]
     },
     "execution_count": 32,
     "metadata": {},
     "output_type": "execute_result"
    },
    {
     "data": {
      "image/png": "[encoded data removed]",
      "text/plain": [
       "<Figure size 1152x720 with 1 Axes>"
      ]
     },
     "metadata": {
      "needs_background": "light"
     },
     "output_type": "display_data"
    }
   ],
   "source": [
    "fig1 = matplotlib.pyplot.figure(figsize=(16,10))\n",
    "ax1 = fig1.add_subplot(1,1,1, title='XBT Feature importance')\n",
    "importance_df.plot.bar(x='features', y='importances_mean', ax=ax1)"
   ]
  },
  {
   "cell_type": "markdown",
   "metadata": {},
   "source": [
    "We see that maximum depth (derived from the depth profile information) and year of measurement are the most important. We see that the country codes for certain countries are the most important, reflecting the countries that have made the most measurements."
   ]
  },
  {
   "cell_type": "markdown",
   "metadata": {},
   "source": [
    "## Other classification algorithms\n",
    "\n",
    "Lets compare results for other classification algorithms to see how feature importance might differ based on the type of algorithm."
   ]
  },
  {
   "cell_type": "code",
   "execution_count": 33,
   "metadata": {},
   "outputs": [],
   "source": [
    "batch_importances_root_dir = '/scratch/shaddad/xbt-data/journal_paper_importance_202104/'\n",
    "batch_importances_file_list = {\n",
    "    'random_forest': 'RandomForest_countryLatLon/xbt_importance_RandomForest_countryLatLon_20210422_1756.csv',\n",
    "    'decision_tree': 'decisionTree_countryLatLon/xbt_importance_decisionTree_countryLatLon_20210422_1756.csv',\n",
    "    'logistic_regression': 'logreg_country/xbt_importance_logreg_country_20210422_1756.csv',\n",
    "    'neural_network': 'mlp_countryLatLon/xbt_importance_mlp_countryLatLon_20210422_1756.csv',\n",
    "}"
   ]
  },
  {
   "cell_type": "code",
   "execution_count": 34,
   "metadata": {},
   "outputs": [],
   "source": [
    "batch_importances_path_list = {clf_name: os.path.join(batch_importances_root_dir,\n",
    "                                            fn1\n",
    "                                           ) for clf_name, fn1 in batch_importances_file_list.items()}"
   ]
  },
  {
   "cell_type": "code",
   "execution_count": 35,
   "metadata": {},
   "outputs": [],
   "source": [
    "importances_df_list = {clf_name: pandas.read_csv(p1) for clf_name, p1 in batch_importances_path_list.items()}"
   ]
  },
  {
   "cell_type": "code",
   "execution_count": 36,
   "metadata": {},
   "outputs": [],
   "source": [
    "importances_df_list = {clf_name: df1.rename({\n",
    "    'importances_stdev': f'importances_std_{clf_name}',\n",
    "    'importances_mean': f'importances_mean_{clf_name}',\n",
    "},axis='columns') for clf_name, df1 in importances_df_list.items()}"
   ]
  },
  {
   "cell_type": "code",
   "execution_count": 37,
   "metadata": {},
   "outputs": [],
   "source": [
    "batch_importances_df = functools.reduce(lambda x,y: pandas.merge(x,y, on='instrument'), importances_df_list.values()) "
   ]
  },
  {
   "cell_type": "code",
   "execution_count": 38,
   "metadata": {},
   "outputs": [
    {
     "data": {
      "text/html": [
       "<div>\n",
       "<style scoped>\n",
       "    .dataframe tbody tr th:only-of-type {\n",
       "        vertical-align: middle;\n",
       "    }\n",
       "\n",
       "    .dataframe tbody tr th {\n",
       "        vertical-align: top;\n",
       "    }\n",
       "\n",
       "    .dataframe thead th {\n",
       "        text-align: right;\n",
       "    }\n",
       "</style>\n",
       "<table border=\"1\" class=\"dataframe\">\n",
       "  <thead>\n",
       "    <tr style=\"text-align: right;\">\n",
       "      <th></th>\n",
       "      <th>Unnamed: 0_x</th>\n",
       "      <th>instrument</th>\n",
       "      <th>importances_mean_random_forest</th>\n",
       "      <th>importances_std_random_forest</th>\n",
       "      <th>Unnamed: 0_y</th>\n",
       "      <th>importances_mean_decision_tree</th>\n",
       "      <th>importances_std_decision_tree</th>\n",
       "      <th>Unnamed: 0_x</th>\n",
       "      <th>importances_mean_logistic_regression</th>\n",
       "      <th>importances_std_logistic_regression</th>\n",
       "      <th>Unnamed: 0_y</th>\n",
       "      <th>importances_mean_neural_network</th>\n",
       "      <th>importances_std_neural_network</th>\n",
       "    </tr>\n",
       "  </thead>\n",
       "  <tbody>\n",
       "    <tr>\n",
       "      <th>0</th>\n",
       "      <td>0</td>\n",
       "      <td>country_ANTIGUA</td>\n",
       "      <td>0.000784</td>\n",
       "      <td>0.000014</td>\n",
       "      <td>0</td>\n",
       "      <td>0.000411</td>\n",
       "      <td>0.000010</td>\n",
       "      <td>0</td>\n",
       "      <td>0.000375</td>\n",
       "      <td>0.000053</td>\n",
       "      <td>0</td>\n",
       "      <td>0.004248</td>\n",
       "      <td>0.000064</td>\n",
       "    </tr>\n",
       "    <tr>\n",
       "      <th>1</th>\n",
       "      <td>1</td>\n",
       "      <td>country_ARGENTINA</td>\n",
       "      <td>0.000098</td>\n",
       "      <td>0.000000</td>\n",
       "      <td>1</td>\n",
       "      <td>0.000011</td>\n",
       "      <td>0.000000</td>\n",
       "      <td>1</td>\n",
       "      <td>0.000005</td>\n",
       "      <td>0.000012</td>\n",
       "      <td>1</td>\n",
       "      <td>0.000335</td>\n",
       "      <td>0.000031</td>\n",
       "    </tr>\n",
       "    <tr>\n",
       "      <th>2</th>\n",
       "      <td>2</td>\n",
       "      <td>country_AUSTRALIA</td>\n",
       "      <td>0.016746</td>\n",
       "      <td>0.000143</td>\n",
       "      <td>2</td>\n",
       "      <td>0.015524</td>\n",
       "      <td>0.000144</td>\n",
       "      <td>2</td>\n",
       "      <td>0.036781</td>\n",
       "      <td>0.000324</td>\n",
       "      <td>2</td>\n",
       "      <td>0.068405</td>\n",
       "      <td>0.000364</td>\n",
       "    </tr>\n",
       "    <tr>\n",
       "      <th>3</th>\n",
       "      <td>3</td>\n",
       "      <td>country_BAHAMAS</td>\n",
       "      <td>0.000354</td>\n",
       "      <td>0.000021</td>\n",
       "      <td>3</td>\n",
       "      <td>0.000307</td>\n",
       "      <td>0.000029</td>\n",
       "      <td>3</td>\n",
       "      <td>0.003101</td>\n",
       "      <td>0.000127</td>\n",
       "      <td>3</td>\n",
       "      <td>0.002674</td>\n",
       "      <td>0.000096</td>\n",
       "    </tr>\n",
       "    <tr>\n",
       "      <th>4</th>\n",
       "      <td>4</td>\n",
       "      <td>country_BARBADOS</td>\n",
       "      <td>0.000186</td>\n",
       "      <td>0.000017</td>\n",
       "      <td>4</td>\n",
       "      <td>0.000293</td>\n",
       "      <td>0.000032</td>\n",
       "      <td>4</td>\n",
       "      <td>0.001657</td>\n",
       "      <td>0.000043</td>\n",
       "      <td>4</td>\n",
       "      <td>0.003060</td>\n",
       "      <td>0.000064</td>\n",
       "    </tr>\n",
       "    <tr>\n",
       "      <th>...</th>\n",
       "      <td>...</td>\n",
       "      <td>...</td>\n",
       "      <td>...</td>\n",
       "      <td>...</td>\n",
       "      <td>...</td>\n",
       "      <td>...</td>\n",
       "      <td>...</td>\n",
       "      <td>...</td>\n",
       "      <td>...</td>\n",
       "      <td>...</td>\n",
       "      <td>...</td>\n",
       "      <td>...</td>\n",
       "      <td>...</td>\n",
       "    </tr>\n",
       "    <tr>\n",
       "      <th>56</th>\n",
       "      <td>56</td>\n",
       "      <td>country_YUGOSLAVIA</td>\n",
       "      <td>0.000146</td>\n",
       "      <td>0.000002</td>\n",
       "      <td>56</td>\n",
       "      <td>0.000081</td>\n",
       "      <td>0.000002</td>\n",
       "      <td>56</td>\n",
       "      <td>-0.000006</td>\n",
       "      <td>0.000009</td>\n",
       "      <td>56</td>\n",
       "      <td>0.000545</td>\n",
       "      <td>0.000033</td>\n",
       "    </tr>\n",
       "    <tr>\n",
       "      <th>57</th>\n",
       "      <td>57</td>\n",
       "      <td>lat</td>\n",
       "      <td>0.063149</td>\n",
       "      <td>0.000355</td>\n",
       "      <td>57</td>\n",
       "      <td>0.082433</td>\n",
       "      <td>0.000445</td>\n",
       "      <td>59</td>\n",
       "      <td>0.018446</td>\n",
       "      <td>0.000415</td>\n",
       "      <td>59</td>\n",
       "      <td>0.032689</td>\n",
       "      <td>0.000314</td>\n",
       "    </tr>\n",
       "    <tr>\n",
       "      <th>58</th>\n",
       "      <td>58</td>\n",
       "      <td>lon</td>\n",
       "      <td>0.064826</td>\n",
       "      <td>0.000404</td>\n",
       "      <td>58</td>\n",
       "      <td>0.096022</td>\n",
       "      <td>0.000434</td>\n",
       "      <td>60</td>\n",
       "      <td>0.001162</td>\n",
       "      <td>0.000241</td>\n",
       "      <td>60</td>\n",
       "      <td>0.009857</td>\n",
       "      <td>0.000297</td>\n",
       "    </tr>\n",
       "    <tr>\n",
       "      <th>59</th>\n",
       "      <td>59</td>\n",
       "      <td>max_depth</td>\n",
       "      <td>0.315568</td>\n",
       "      <td>0.000901</td>\n",
       "      <td>59</td>\n",
       "      <td>0.402017</td>\n",
       "      <td>0.001250</td>\n",
       "      <td>57</td>\n",
       "      <td>0.166304</td>\n",
       "      <td>0.000804</td>\n",
       "      <td>57</td>\n",
       "      <td>0.317479</td>\n",
       "      <td>0.000641</td>\n",
       "    </tr>\n",
       "    <tr>\n",
       "      <th>60</th>\n",
       "      <td>60</td>\n",
       "      <td>year</td>\n",
       "      <td>0.394259</td>\n",
       "      <td>0.000714</td>\n",
       "      <td>60</td>\n",
       "      <td>0.431864</td>\n",
       "      <td>0.001272</td>\n",
       "      <td>58</td>\n",
       "      <td>0.311683</td>\n",
       "      <td>0.000888</td>\n",
       "      <td>58</td>\n",
       "      <td>0.319348</td>\n",
       "      <td>0.000782</td>\n",
       "    </tr>\n",
       "  </tbody>\n",
       "</table>\n",
       "<p>61 rows × 13 columns</p>\n",
       "</div>"
      ],
      "text/plain": [
       "    Unnamed: 0_x          instrument  importances_mean_random_forest  \\\n",
       "0              0     country_ANTIGUA                        0.000784   \n",
       "1              1   country_ARGENTINA                        0.000098   \n",
       "2              2   country_AUSTRALIA                        0.016746   \n",
       "3              3     country_BAHAMAS                        0.000354   \n",
       "4              4    country_BARBADOS                        0.000186   \n",
       "..           ...                 ...                             ...   \n",
       "56            56  country_YUGOSLAVIA                        0.000146   \n",
       "57            57                 lat                        0.063149   \n",
       "58            58                 lon                        0.064826   \n",
       "59            59           max_depth                        0.315568   \n",
       "60            60                year                        0.394259   \n",
       "\n",
       "    importances_std_random_forest  Unnamed: 0_y  \\\n",
       "0                        0.000014             0   \n",
       "1                        0.000000             1   \n",
       "2                        0.000143             2   \n",
       "3                        0.000021             3   \n",
       "4                        0.000017             4   \n",
       "..                            ...           ...   \n",
       "56                       0.000002            56   \n",
       "57                       0.000355            57   \n",
       "58                       0.000404            58   \n",
       "59                       0.000901            59   \n",
       "60                       0.000714            60   \n",
       "\n",
       "    importances_mean_decision_tree  importances_std_decision_tree  \\\n",
       "0                         0.000411                       0.000010   \n",
       "1                         0.000011                       0.000000   \n",
       "2                         0.015524                       0.000144   \n",
       "3                         0.000307                       0.000029   \n",
       "4                         0.000293                       0.000032   \n",
       "..                             ...                            ...   \n",
       "56                        0.000081                       0.000002   \n",
       "57                        0.082433                       0.000445   \n",
       "58                        0.096022                       0.000434   \n",
       "59                        0.402017                       0.001250   \n",
       "60                        0.431864                       0.001272   \n",
       "\n",
       "    Unnamed: 0_x  importances_mean_logistic_regression  \\\n",
       "0              0                              0.000375   \n",
       "1              1                              0.000005   \n",
       "2              2                              0.036781   \n",
       "3              3                              0.003101   \n",
       "4              4                              0.001657   \n",
       "..           ...                                   ...   \n",
       "56            56                             -0.000006   \n",
       "57            59                              0.018446   \n",
       "58            60                              0.001162   \n",
       "59            57                              0.166304   \n",
       "60            58                              0.311683   \n",
       "\n",
       "    importances_std_logistic_regression  Unnamed: 0_y  \\\n",
       "0                              0.000053             0   \n",
       "1                              0.000012             1   \n",
       "2                              0.000324             2   \n",
       "3                              0.000127             3   \n",
       "4                              0.000043             4   \n",
       "..                                  ...           ...   \n",
       "56                             0.000009            56   \n",
       "57                             0.000415            59   \n",
       "58                             0.000241            60   \n",
       "59                             0.000804            57   \n",
       "60                             0.000888            58   \n",
       "\n",
       "    importances_mean_neural_network  importances_std_neural_network  \n",
       "0                          0.004248                        0.000064  \n",
       "1                          0.000335                        0.000031  \n",
       "2                          0.068405                        0.000364  \n",
       "3                          0.002674                        0.000096  \n",
       "4                          0.003060                        0.000064  \n",
       "..                              ...                             ...  \n",
       "56                         0.000545                        0.000033  \n",
       "57                         0.032689                        0.000314  \n",
       "58                         0.009857                        0.000297  \n",
       "59                         0.317479                        0.000641  \n",
       "60                         0.319348                        0.000782  \n",
       "\n",
       "[61 rows x 13 columns]"
      ]
     },
     "execution_count": 38,
     "metadata": {},
     "output_type": "execute_result"
    }
   ],
   "source": [
    "batch_importances_df"
   ]
  },
  {
   "cell_type": "code",
   "execution_count": 39,
   "metadata": {},
   "outputs": [
    {
     "data": {
      "text/plain": [
       "<AxesSubplot:title={'center':'comparison of feature importances for algorithms'}, xlabel='instrument'>"
      ]
     },
     "execution_count": 39,
     "metadata": {},
     "output_type": "execute_result"
    },
    {
     "data": {
      "image/png": "[encoded data removed]",
      "text/plain": [
       "<Figure size 1152x720 with 1 Axes>"
      ]
     },
     "metadata": {
      "needs_background": "light"
     },
     "output_type": "display_data"
    }
   ],
   "source": [
    "fig_batch_importances = matplotlib.pyplot.figure('batch_importances', figsize=(16,10))\n",
    "ax_batch_importances = fig_batch_importances.add_subplot(1,1,1, title='comparison of feature importances for algorithms')\n",
    "batch_importances_df.plot.bar(x='instrument', \n",
    "                              y=[f'importances_mean_{clf_name}' for clf_name in importances_df_list.keys()],\n",
    "                             ax=ax_batch_importances)"
   ]
  },
  {
   "cell_type": "code",
   "execution_count": null,
   "metadata": {},
   "outputs": [],
   "source": []
  }
 ],
 "metadata": {
  "kernelspec": {
   "display_name": "experimental-current",
   "language": "python",
   "name": "experimental-current"
  },
  "language_info": {
   "codemirror_mode": {
    "name": "ipython",
    "version": 3
   },
   "file_extension": ".py",
   "mimetype": "text/x-python",
   "name": "python",
   "nbconvert_exporter": "python",
   "pygments_lexer": "ipython3",
   "version": "3.6.6"
  }
 },
 "nbformat": 4,
 "nbformat_minor": 4
}
