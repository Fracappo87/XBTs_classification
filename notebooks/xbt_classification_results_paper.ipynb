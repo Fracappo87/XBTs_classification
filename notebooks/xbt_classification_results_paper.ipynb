{
 "cells": [
  {
   "cell_type": "markdown",
   "metadata": {},
   "source": [
    "# Comparison of results from different algrithms and input sets\n",
    "\n",
    "In this notebook we will compare the metrics output by training and evaluation runs of each of the definition files in [the examples directory](https://github.com/MetOffice/XBTs_classification/tree/master/examples) on GitHub. We will compare the per year recall for each algorthm/input features combo as well as looking at the overall scores to choose a best classification pipeline to recommend for use with the EN4 dataset."
   ]
  },
  {
   "cell_type": "markdown",
   "metadata": {},
   "source": [
    "### Environment and library setup\n",
    "The results are stored in CSV files, so we will use pandas and matplotlib to load and visualise the metrics. "
   ]
  },
  {
   "cell_type": "code",
   "execution_count": 1,
   "metadata": {},
   "outputs": [],
   "source": [
    "import pandas\n",
    "import os\n",
    "import sys\n",
    "from pathlib import Path\n",
    "import functools\n",
    "import re"
   ]
  },
  {
   "cell_type": "code",
   "execution_count": 2,
   "metadata": {},
   "outputs": [],
   "source": [
    "import matplotlib\n",
    "import matplotlib.pyplot"
   ]
  },
  {
   "cell_type": "code",
   "execution_count": 3,
   "metadata": {},
   "outputs": [],
   "source": [
    "font = {'family' : 'normal',\n",
    "        'size'   : 32}\n",
    "matplotlib.rc('font', **font)\n",
    "matplotlib.pyplot.style.use('ggplot')"
   ]
  },
  {
   "cell_type": "code",
   "execution_count": 4,
   "metadata": {},
   "outputs": [],
   "source": [
    "import sklearn.metrics"
   ]
  },
  {
   "cell_type": "code",
   "execution_count": 5,
   "metadata": {},
   "outputs": [],
   "source": [
    "# Set up some site specific parameters for the notebook\n",
    "try:\n",
    "    environment = os.environ['XBT_ENV_NAME']\n",
    "except KeyError:\n",
    "    environment = 'pangeo'"
   ]
  },
  {
   "cell_type": "code",
   "execution_count": 6,
   "metadata": {},
   "outputs": [],
   "source": [
    "root_data_dirs = {\n",
    "    'MO_scitools': '/scratch/shaddad/xbt-data/',\n",
    "    'pangeo': '/data/misc/xbt-data/',\n",
    "}\n",
    "env_date_ranges = {\n",
    "    'MO_scitools': (1966,2015),\n",
    "    'pangeo': (1966,2015)\n",
    "}\n"
   ]
  },
  {
   "cell_type": "code",
   "execution_count": 7,
   "metadata": {},
   "outputs": [],
   "source": [
    "# Set up some dataset specific parameters\n",
    "root_data_dir = root_data_dirs[environment]\n",
    "year_range = env_date_ranges[environment]"
   ]
  },
  {
   "cell_type": "code",
   "execution_count": 8,
   "metadata": {},
   "outputs": [],
   "source": [
    "input_dir_name = 'csv_with_imeta'\n",
    "plot_dir_name = 'plots'\n",
    "exp_out_dir_name = 'journal_paper_202104'\n",
    "imeta_dir = 'imeta'"
   ]
  },
  {
   "cell_type": "code",
   "execution_count": 9,
   "metadata": {},
   "outputs": [],
   "source": [
    "xbt_input_dir = os.path.join(root_data_dir, input_dir_name)\n",
    "xbt_output_dir = os.path.join(root_data_dir, exp_out_dir_name)\n",
    "xbt_imeta_path   = os.path.join(xbt_output_dir, imeta_dir)\n",
    "xbt_plots_dir = os.path.join('/data/users/shaddad/xbt-data/', plot_dir_name)"
   ]
  },
  {
   "cell_type": "markdown",
   "metadata": {},
   "source": [
    "# Finding the results files\n",
    "The experiment output directory is arranged as one output directory per experiment definition file. Each directory will have:\n",
    "* `xbt_metrics_<experiment_name>_<datestamp>.json` - the CSV file with per year and per instrument metrics\n",
    "* `xbt_score_<experiment_name>_<datestamp>.json` - the CSV file with average metrics for all data in train and test sets.\n",
    "* `xbt_classifications_<experiment_name>.csv`  -  a file containing the input data as well as the classifcation produced with the classifier trained in the experiment.\n",
    "* `xbt_classifier_<RandomForest_country>_<split_num>.joblib` - one file for each outer split, containing the saved state of the classifier trained on that split.\n",
    "* `xbt_param_<experiment_name>_inference.json` - The experiment definition file used for this experiment, with the addition of a list of classifier state file. This file should be used to run the inference script with classifiers that have been trained in this experiment.\n",
    "\n",
    "The code below find all the metrics and score result files and extracts relevant subsets into dataframes for plotting."
   ]
  },
  {
   "cell_type": "code",
   "execution_count": 10,
   "metadata": {},
   "outputs": [],
   "source": [
    "metrics_prefix = 'xbt_metrics'\n",
    "score_prefix = 'xbt_score'"
   ]
  },
  {
   "cell_type": "code",
   "execution_count": 11,
   "metadata": {},
   "outputs": [],
   "source": [
    "regex_metrics_files = metrics_prefix + '_(?P<classifier>([a-zA-Z]+))_(?P<features>([a-zA-Z]+))(_cv)*_(?P<timestamp>[0-9_]+)'\n",
    "regex_score_files = score_prefix + '_(?P<classifier>([a-zA-Z]+))_(?P<features>([a-zA-Z]+))(_cv)*_(?P<timestamp>[0-9_]+)'"
   ]
  },
  {
   "cell_type": "code",
   "execution_count": 12,
   "metadata": {},
   "outputs": [
    {
     "ename": "FileNotFoundError",
     "evalue": "[Errno 2] No such file or directory: '/scratch/shaddad/xbt-data/journal_paper_202104/imeta/xbt_metrics_imeta.csv'",
     "output_type": "error",
     "traceback": [
      "\u001b[0;31m---------------------------------------------------------------------------\u001b[0m",
      "\u001b[0;31mFileNotFoundError\u001b[0m                         Traceback (most recent call last)",
      "\u001b[0;32m<ipython-input-12-8e559626111e>\u001b[0m in \u001b[0;36m<module>\u001b[0;34m\u001b[0m\n\u001b[0;32m----> 1\u001b[0;31m \u001b[0mimeta_metrics\u001b[0m \u001b[0;34m=\u001b[0m \u001b[0mpandas\u001b[0m\u001b[0;34m.\u001b[0m\u001b[0mread_csv\u001b[0m\u001b[0;34m(\u001b[0m\u001b[0mos\u001b[0m\u001b[0;34m.\u001b[0m\u001b[0mpath\u001b[0m\u001b[0;34m.\u001b[0m\u001b[0mjoin\u001b[0m\u001b[0;34m(\u001b[0m\u001b[0mxbt_imeta_path\u001b[0m\u001b[0;34m,\u001b[0m \u001b[0;34m'xbt_metrics_imeta.csv'\u001b[0m\u001b[0;34m)\u001b[0m\u001b[0;34m)\u001b[0m\u001b[0;34m\u001b[0m\u001b[0m\n\u001b[0m",
      "\u001b[0;32m/opt/scitools/environments/experimental/current/lib/python3.6/site-packages/pandas/io/parsers.py\u001b[0m in \u001b[0;36mread_csv\u001b[0;34m(filepath_or_buffer, sep, delimiter, header, names, index_col, usecols, squeeze, prefix, mangle_dupe_cols, dtype, engine, converters, true_values, false_values, skipinitialspace, skiprows, skipfooter, nrows, na_values, keep_default_na, na_filter, verbose, skip_blank_lines, parse_dates, infer_datetime_format, keep_date_col, date_parser, dayfirst, cache_dates, iterator, chunksize, compression, thousands, decimal, lineterminator, quotechar, quoting, doublequote, escapechar, comment, encoding, dialect, error_bad_lines, warn_bad_lines, delim_whitespace, low_memory, memory_map, float_precision)\u001b[0m\n\u001b[1;32m    686\u001b[0m     )\n\u001b[1;32m    687\u001b[0m \u001b[0;34m\u001b[0m\u001b[0m\n\u001b[0;32m--> 688\u001b[0;31m     \u001b[0;32mreturn\u001b[0m \u001b[0m_read\u001b[0m\u001b[0;34m(\u001b[0m\u001b[0mfilepath_or_buffer\u001b[0m\u001b[0;34m,\u001b[0m \u001b[0mkwds\u001b[0m\u001b[0;34m)\u001b[0m\u001b[0;34m\u001b[0m\u001b[0m\n\u001b[0m\u001b[1;32m    689\u001b[0m \u001b[0;34m\u001b[0m\u001b[0m\n\u001b[1;32m    690\u001b[0m \u001b[0;34m\u001b[0m\u001b[0m\n",
      "\u001b[0;32m/opt/scitools/environments/experimental/current/lib/python3.6/site-packages/pandas/io/parsers.py\u001b[0m in \u001b[0;36m_read\u001b[0;34m(filepath_or_buffer, kwds)\u001b[0m\n\u001b[1;32m    452\u001b[0m \u001b[0;34m\u001b[0m\u001b[0m\n\u001b[1;32m    453\u001b[0m     \u001b[0;31m# Create the parser.\u001b[0m\u001b[0;34m\u001b[0m\u001b[0;34m\u001b[0m\u001b[0m\n\u001b[0;32m--> 454\u001b[0;31m     \u001b[0mparser\u001b[0m \u001b[0;34m=\u001b[0m \u001b[0mTextFileReader\u001b[0m\u001b[0;34m(\u001b[0m\u001b[0mfp_or_buf\u001b[0m\u001b[0;34m,\u001b[0m \u001b[0;34m**\u001b[0m\u001b[0mkwds\u001b[0m\u001b[0;34m)\u001b[0m\u001b[0;34m\u001b[0m\u001b[0m\n\u001b[0m\u001b[1;32m    455\u001b[0m \u001b[0;34m\u001b[0m\u001b[0m\n\u001b[1;32m    456\u001b[0m     \u001b[0;32mif\u001b[0m \u001b[0mchunksize\u001b[0m \u001b[0;32mor\u001b[0m \u001b[0miterator\u001b[0m\u001b[0;34m:\u001b[0m\u001b[0;34m\u001b[0m\u001b[0m\n",
      "\u001b[0;32m/opt/scitools/environments/experimental/current/lib/python3.6/site-packages/pandas/io/parsers.py\u001b[0m in \u001b[0;36m__init__\u001b[0;34m(self, f, engine, **kwds)\u001b[0m\n\u001b[1;32m    946\u001b[0m             \u001b[0mself\u001b[0m\u001b[0;34m.\u001b[0m\u001b[0moptions\u001b[0m\u001b[0;34m[\u001b[0m\u001b[0;34m\"has_index_names\"\u001b[0m\u001b[0;34m]\u001b[0m \u001b[0;34m=\u001b[0m \u001b[0mkwds\u001b[0m\u001b[0;34m[\u001b[0m\u001b[0;34m\"has_index_names\"\u001b[0m\u001b[0;34m]\u001b[0m\u001b[0;34m\u001b[0m\u001b[0m\n\u001b[1;32m    947\u001b[0m \u001b[0;34m\u001b[0m\u001b[0m\n\u001b[0;32m--> 948\u001b[0;31m         \u001b[0mself\u001b[0m\u001b[0;34m.\u001b[0m\u001b[0m_make_engine\u001b[0m\u001b[0;34m(\u001b[0m\u001b[0mself\u001b[0m\u001b[0;34m.\u001b[0m\u001b[0mengine\u001b[0m\u001b[0;34m)\u001b[0m\u001b[0;34m\u001b[0m\u001b[0m\n\u001b[0m\u001b[1;32m    949\u001b[0m \u001b[0;34m\u001b[0m\u001b[0m\n\u001b[1;32m    950\u001b[0m     \u001b[0;32mdef\u001b[0m \u001b[0mclose\u001b[0m\u001b[0;34m(\u001b[0m\u001b[0mself\u001b[0m\u001b[0;34m)\u001b[0m\u001b[0;34m:\u001b[0m\u001b[0;34m\u001b[0m\u001b[0m\n",
      "\u001b[0;32m/opt/scitools/environments/experimental/current/lib/python3.6/site-packages/pandas/io/parsers.py\u001b[0m in \u001b[0;36m_make_engine\u001b[0;34m(self, engine)\u001b[0m\n\u001b[1;32m   1178\u001b[0m     \u001b[0;32mdef\u001b[0m \u001b[0m_make_engine\u001b[0m\u001b[0;34m(\u001b[0m\u001b[0mself\u001b[0m\u001b[0;34m,\u001b[0m \u001b[0mengine\u001b[0m\u001b[0;34m=\u001b[0m\u001b[0;34m\"c\"\u001b[0m\u001b[0;34m)\u001b[0m\u001b[0;34m:\u001b[0m\u001b[0;34m\u001b[0m\u001b[0m\n\u001b[1;32m   1179\u001b[0m         \u001b[0;32mif\u001b[0m \u001b[0mengine\u001b[0m \u001b[0;34m==\u001b[0m \u001b[0;34m\"c\"\u001b[0m\u001b[0;34m:\u001b[0m\u001b[0;34m\u001b[0m\u001b[0m\n\u001b[0;32m-> 1180\u001b[0;31m             \u001b[0mself\u001b[0m\u001b[0;34m.\u001b[0m\u001b[0m_engine\u001b[0m \u001b[0;34m=\u001b[0m \u001b[0mCParserWrapper\u001b[0m\u001b[0;34m(\u001b[0m\u001b[0mself\u001b[0m\u001b[0;34m.\u001b[0m\u001b[0mf\u001b[0m\u001b[0;34m,\u001b[0m \u001b[0;34m**\u001b[0m\u001b[0mself\u001b[0m\u001b[0;34m.\u001b[0m\u001b[0moptions\u001b[0m\u001b[0;34m)\u001b[0m\u001b[0;34m\u001b[0m\u001b[0m\n\u001b[0m\u001b[1;32m   1181\u001b[0m         \u001b[0;32melse\u001b[0m\u001b[0;34m:\u001b[0m\u001b[0;34m\u001b[0m\u001b[0m\n\u001b[1;32m   1182\u001b[0m             \u001b[0;32mif\u001b[0m \u001b[0mengine\u001b[0m \u001b[0;34m==\u001b[0m \u001b[0;34m\"python\"\u001b[0m\u001b[0;34m:\u001b[0m\u001b[0;34m\u001b[0m\u001b[0m\n",
      "\u001b[0;32m/opt/scitools/environments/experimental/current/lib/python3.6/site-packages/pandas/io/parsers.py\u001b[0m in \u001b[0;36m__init__\u001b[0;34m(self, src, **kwds)\u001b[0m\n\u001b[1;32m   2008\u001b[0m         \u001b[0mkwds\u001b[0m\u001b[0;34m[\u001b[0m\u001b[0;34m\"usecols\"\u001b[0m\u001b[0;34m]\u001b[0m \u001b[0;34m=\u001b[0m \u001b[0mself\u001b[0m\u001b[0;34m.\u001b[0m\u001b[0musecols\u001b[0m\u001b[0;34m\u001b[0m\u001b[0m\n\u001b[1;32m   2009\u001b[0m \u001b[0;34m\u001b[0m\u001b[0m\n\u001b[0;32m-> 2010\u001b[0;31m         \u001b[0mself\u001b[0m\u001b[0;34m.\u001b[0m\u001b[0m_reader\u001b[0m \u001b[0;34m=\u001b[0m \u001b[0mparsers\u001b[0m\u001b[0;34m.\u001b[0m\u001b[0mTextReader\u001b[0m\u001b[0;34m(\u001b[0m\u001b[0msrc\u001b[0m\u001b[0;34m,\u001b[0m \u001b[0;34m**\u001b[0m\u001b[0mkwds\u001b[0m\u001b[0;34m)\u001b[0m\u001b[0;34m\u001b[0m\u001b[0m\n\u001b[0m\u001b[1;32m   2011\u001b[0m         \u001b[0mself\u001b[0m\u001b[0;34m.\u001b[0m\u001b[0munnamed_cols\u001b[0m \u001b[0;34m=\u001b[0m \u001b[0mself\u001b[0m\u001b[0;34m.\u001b[0m\u001b[0m_reader\u001b[0m\u001b[0;34m.\u001b[0m\u001b[0munnamed_cols\u001b[0m\u001b[0;34m\u001b[0m\u001b[0m\n\u001b[1;32m   2012\u001b[0m \u001b[0;34m\u001b[0m\u001b[0m\n",
      "\u001b[0;32mpandas/_libs/parsers.pyx\u001b[0m in \u001b[0;36mpandas._libs.parsers.TextReader.__cinit__\u001b[0;34m()\u001b[0m\n",
      "\u001b[0;32mpandas/_libs/parsers.pyx\u001b[0m in \u001b[0;36mpandas._libs.parsers.TextReader._setup_parser_source\u001b[0;34m()\u001b[0m\n",
      "\u001b[0;31mFileNotFoundError\u001b[0m: [Errno 2] No such file or directory: '/scratch/shaddad/xbt-data/journal_paper_202104/imeta/xbt_metrics_imeta.csv'"
     ]
    }
   ],
   "source": [
    "imeta_metrics = pandas.read_csv(os.path.join(xbt_imeta_path, 'xbt_metrics_imeta.csv'))                             "
   ]
  },
  {
   "cell_type": "code",
   "execution_count": null,
   "metadata": {},
   "outputs": [],
   "source": [
    "metric_tuples1 = [ (dir_list[0], sorted([fname1 for fname1 in dir_list[2] if 'xbt_metrics' in fname1])[-1]) for dir_list in os.walk(xbt_output_dir) if len([fname1 for fname1 in dir_list[2] if 'xbt_metrics' in fname1]) > 0]\n",
    "metric_tuples1 = [(i1[0],i1[1], re.search(regex_metrics_files, i1[1])) for i1 in metric_tuples1]"
   ]
  },
  {
   "cell_type": "code",
   "execution_count": null,
   "metadata": {},
   "outputs": [],
   "source": [
    "metrics_files_dict = {'{0}_{1}'.format(t1[2].group('classifier'), t1[2].group('features')): \n",
    " {\n",
    "    'classifier': t1[2].group('classifier'),\n",
    "    'features': t1[2].group('features'),\n",
    "    'timestamp': t1[2].group('timestamp'),\n",
    "    'dir': t1[0],\n",
    "    'fname': t1[1],\n",
    "     'path': os.path.join(t1[0], t1[1]),\n",
    " }\n",
    "    for t1 in metric_tuples1 if t1[2] is not None}"
   ]
  },
  {
   "cell_type": "code",
   "execution_count": null,
   "metadata": {},
   "outputs": [],
   "source": [
    "metrics_list = {k1: pandas.read_csv(v1['path']) for k1, v1 in metrics_files_dict.items()}"
   ]
  },
  {
   "cell_type": "code",
   "execution_count": null,
   "metadata": {},
   "outputs": [],
   "source": [
    "metrics_ens = {k1: v1[[c1 for c1 in v1.columns if 'ens' in c1 and 'recall' in c1] + ['year']] for k1,v1 in metrics_list.items()}\n"
   ]
  },
  {
   "cell_type": "markdown",
   "metadata": {},
   "source": [
    "Here we find the recall for each classifier per year for each experiment and each split in that experiment, as well as the average recall across all split, for training and test data."
   ]
  },
  {
   "cell_type": "code",
   "execution_count": 13,
   "metadata": {},
   "outputs": [
    {
     "ename": "NameError",
     "evalue": "name 'metrics_list' is not defined",
     "output_type": "error",
     "traceback": [
      "\u001b[0;31m---------------------------------------------------------------------------\u001b[0m",
      "\u001b[0;31mNameError\u001b[0m                                 Traceback (most recent call last)",
      "\u001b[0;32m<ipython-input-13-ecdfa73b1e51>\u001b[0m in \u001b[0;36m<module>\u001b[0;34m\u001b[0m\n\u001b[1;32m      2\u001b[0m     k1: pandas.merge(v1[[i1 for i1 in v1.columns if ('_all' in i1 and 'recall_' in i1 and 'train_' in i1) or ('year' == i1)]],\n\u001b[1;32m      3\u001b[0m                   pandas.DataFrame({'year': v1['year'], k1 + '_mean': v1[[i1 for i1 in v1.columns if '_all' in i1 and 'recall_' in i1 and 'train_' in i1]].mean(axis=1)})) \n\u001b[0;32m----> 4\u001b[0;31m       for k1,v1 in metrics_list.items()}\n\u001b[0m\u001b[1;32m      5\u001b[0m \u001b[0;34m\u001b[0m\u001b[0m\n\u001b[1;32m      6\u001b[0m metrics_test_perClassifier = {\n",
      "\u001b[0;31mNameError\u001b[0m: name 'metrics_list' is not defined"
     ]
    }
   ],
   "source": [
    "metrics_train_perClassifier = {\n",
    "    k1: pandas.merge(v1[[i1 for i1 in v1.columns if ('_all' in i1 and 'recall_' in i1 and 'train_' in i1) or ('year' == i1)]],\n",
    "                  pandas.DataFrame({'year': v1['year'], k1 + '_mean': v1[[i1 for i1 in v1.columns if '_all' in i1 and 'recall_' in i1 and 'train_' in i1]].mean(axis=1)})) \n",
    "      for k1,v1 in metrics_list.items()}\n",
    "\n",
    "metrics_test_perClassifier = {\n",
    "    k1: pandas.merge(v1[[i1 for i1 in v1.columns if ('_all' in i1 and 'recall_' in i1 and 'test_' in i1) or ('year' == i1)]],\n",
    "                  pandas.DataFrame({'year': v1['year'], k1 + '_mean': v1[[i1 for i1 in v1.columns if '_all' in i1 and 'recall_' in i1 and 'test_' in i1]].mean(axis=1)})) \n",
    "      for k1,v1 in metrics_list.items()}\n"
   ]
  },
  {
   "cell_type": "code",
   "execution_count": 14,
   "metadata": {},
   "outputs": [
    {
     "ename": "NameError",
     "evalue": "name 'metrics_list' is not defined",
     "output_type": "error",
     "traceback": [
      "\u001b[0;31m---------------------------------------------------------------------------\u001b[0m",
      "\u001b[0;31mNameError\u001b[0m                                 Traceback (most recent call last)",
      "\u001b[0;32m<ipython-input-14-3fe94641a0c1>\u001b[0m in \u001b[0;36m<module>\u001b[0;34m\u001b[0m\n\u001b[1;32m      1\u001b[0m metrics_cons_train1 = functools.reduce(lambda df1,df2: pandas.merge(df1,df2,on='year'), \n\u001b[1;32m      2\u001b[0m        [pandas.DataFrame({'year': v1['year'], k1: v1[[i1 for i1 in v1.columns if '_all' in i1 and 'recall_' in i1 and 'train_' in i1]].mean(axis=1)}) \n\u001b[0;32m----> 3\u001b[0;31m       for k1,v1 in metrics_list.items()]) \n\u001b[0m\u001b[1;32m      4\u001b[0m metrics_cons_test1 = functools.reduce(lambda df1,df2: pandas.merge(df1,df2,on='year'), \n\u001b[1;32m      5\u001b[0m        [pandas.DataFrame({'year': v1['year'], k1: v1[[i1 for i1 in v1.columns if '_all' in i1 and 'recall_' in i1 and 'test_' in i1]].mean(axis=1)}) \n",
      "\u001b[0;31mNameError\u001b[0m: name 'metrics_list' is not defined"
     ]
    }
   ],
   "source": [
    "metrics_cons_train1 = functools.reduce(lambda df1,df2: pandas.merge(df1,df2,on='year'), \n",
    "       [pandas.DataFrame({'year': v1['year'], k1: v1[[i1 for i1 in v1.columns if '_all' in i1 and 'recall_' in i1 and 'train_' in i1]].mean(axis=1)}) \n",
    "      for k1,v1 in metrics_list.items()]) \n",
    "metrics_cons_test1 = functools.reduce(lambda df1,df2: pandas.merge(df1,df2,on='year'), \n",
    "       [pandas.DataFrame({'year': v1['year'], k1: v1[[i1 for i1 in v1.columns if '_all' in i1 and 'recall_' in i1 and 'test_' in i1]].mean(axis=1)}) \n",
    "      for k1,v1 in metrics_list.items()]) "
   ]
  },
  {
   "cell_type": "markdown",
   "metadata": {},
   "source": [
    "In addition to results for individual classifiers, we are also interested in the recall for the ensemble vote-based probability classifier, which is extract here."
   ]
  },
  {
   "cell_type": "code",
   "execution_count": 15,
   "metadata": {},
   "outputs": [
    {
     "ename": "NameError",
     "evalue": "name 'metrics_list' is not defined",
     "output_type": "error",
     "traceback": [
      "\u001b[0;31m---------------------------------------------------------------------------\u001b[0m",
      "\u001b[0;31mNameError\u001b[0m                                 Traceback (most recent call last)",
      "\u001b[0;32m<ipython-input-15-6e42669886bf>\u001b[0m in \u001b[0;36m<module>\u001b[0;34m\u001b[0m\n\u001b[1;32m     14\u001b[0m     \u001b[0;34m'mlp_countryLatLon'\u001b[0m\u001b[0;34m:\u001b[0m \u001b[0;34m'mlp_countryLatLonMaxDepthYear'\u001b[0m\u001b[0;34m,\u001b[0m\u001b[0;34m\u001b[0m\u001b[0m\n\u001b[1;32m     15\u001b[0m }\n\u001b[0;32m---> 16\u001b[0;31m \u001b[0mclf_list\u001b[0m \u001b[0;34m=\u001b[0m \u001b[0;34m[\u001b[0m\u001b[0md1_rename\u001b[0m\u001b[0;34m[\u001b[0m\u001b[0mi1\u001b[0m\u001b[0;34m]\u001b[0m \u001b[0;32mfor\u001b[0m \u001b[0mi1\u001b[0m \u001b[0;32min\u001b[0m \u001b[0mmetrics_list\u001b[0m\u001b[0;34m.\u001b[0m\u001b[0mkeys\u001b[0m\u001b[0;34m(\u001b[0m\u001b[0;34m)\u001b[0m\u001b[0;34m]\u001b[0m\u001b[0;34m\u001b[0m\u001b[0m\n\u001b[0m",
      "\u001b[0;31mNameError\u001b[0m: name 'metrics_list' is not defined"
     ]
    }
   ],
   "source": [
    "#creating more descriptive names\n",
    "d1_rename = {\n",
    "    'RandomForest_country': 'RandomForest_countryMaxDepthYear',\n",
    "    'RandomForest_countryLatLon': 'RandomForest_countryLatLonMaxDepthYear',\n",
    "    'decisionTree_country': 'decisionTree_countryMaxDepthYear',\n",
    "    'decisionTree_countryLatLon': 'decisionTree_countryLatLonMaxDepthYear',\n",
    "    'decisionTree_latLon': 'decisionTree_latLonMaxDepthYear',\n",
    "    'decisionTree_maxDepthYear': 'decisionTree_maxDepthYear',\n",
    "    'decisionTree_country': 'decisionTree_countryMaxDepthYear',\n",
    "    'knn_country': 'knn_countryMaxDepthYear',\n",
    "    'RandomForest_country': 'RandomForest_countryMaxDepthYear',\n",
    "    'logreg_country': 'logreg_countryMaxDepthYear',\n",
    "    'mlp_country': 'RandomForest_countryMaxDepthYear',\n",
    "    'mlp_countryLatLon': 'mlp_countryLatLonMaxDepthYear',\n",
    "}\n",
    "clf_list = [d1_rename[i1] for i1 in metrics_list.keys()]"
   ]
  },
  {
   "cell_type": "code",
   "execution_count": 16,
   "metadata": {},
   "outputs": [
    {
     "ename": "NameError",
     "evalue": "name 'metrics_list' is not defined",
     "output_type": "error",
     "traceback": [
      "\u001b[0;31m---------------------------------------------------------------------------\u001b[0m",
      "\u001b[0;31mNameError\u001b[0m                                 Traceback (most recent call last)",
      "\u001b[0;32m<ipython-input-16-31a5095079c8>\u001b[0m in \u001b[0;36m<module>\u001b[0;34m\u001b[0m\n\u001b[0;32m----> 1\u001b[0;31m \u001b[0md1\u001b[0m \u001b[0;34m=\u001b[0m \u001b[0;34m{\u001b[0m\u001b[0mk1\u001b[0m\u001b[0;34m:\u001b[0m \u001b[0mm1\u001b[0m\u001b[0;34m[\u001b[0m\u001b[0;34m'recall_ens_unseen_all'\u001b[0m\u001b[0;34m]\u001b[0m \u001b[0;32mfor\u001b[0m \u001b[0mk1\u001b[0m\u001b[0;34m,\u001b[0m\u001b[0mm1\u001b[0m \u001b[0;32min\u001b[0m \u001b[0mmetrics_list\u001b[0m\u001b[0;34m.\u001b[0m\u001b[0mitems\u001b[0m\u001b[0;34m(\u001b[0m\u001b[0;34m)\u001b[0m\u001b[0;34m}\u001b[0m\u001b[0;34m\u001b[0m\u001b[0m\n\u001b[0m\u001b[1;32m      2\u001b[0m \u001b[0md1\u001b[0m\u001b[0;34m.\u001b[0m\u001b[0mupdate\u001b[0m\u001b[0;34m(\u001b[0m\u001b[0;34m{\u001b[0m\u001b[0;34m'year'\u001b[0m\u001b[0;34m:\u001b[0m \u001b[0mmetrics_list\u001b[0m\u001b[0;34m[\u001b[0m\u001b[0mlist\u001b[0m\u001b[0;34m(\u001b[0m\u001b[0mmetrics_list\u001b[0m\u001b[0;34m.\u001b[0m\u001b[0mkeys\u001b[0m\u001b[0;34m(\u001b[0m\u001b[0;34m)\u001b[0m\u001b[0;34m)\u001b[0m\u001b[0;34m[\u001b[0m\u001b[0;36m0\u001b[0m\u001b[0;34m]\u001b[0m\u001b[0;34m]\u001b[0m\u001b[0;34m[\u001b[0m\u001b[0;34m'year'\u001b[0m\u001b[0;34m]\u001b[0m\u001b[0;34m}\u001b[0m\u001b[0;34m)\u001b[0m\u001b[0;34m\u001b[0m\u001b[0m\n\u001b[1;32m      3\u001b[0m \u001b[0mmetrics_recall_ens_unseen\u001b[0m \u001b[0;34m=\u001b[0m \u001b[0mpandas\u001b[0m\u001b[0;34m.\u001b[0m\u001b[0mDataFrame\u001b[0m\u001b[0;34m(\u001b[0m\u001b[0md1\u001b[0m\u001b[0;34m)\u001b[0m\u001b[0;34m\u001b[0m\u001b[0m\n\u001b[1;32m      4\u001b[0m \u001b[0mmetrics_recall_ens_unseen\u001b[0m \u001b[0;34m=\u001b[0m \u001b[0mmetrics_recall_ens_unseen\u001b[0m\u001b[0;34m.\u001b[0m\u001b[0mrename\u001b[0m\u001b[0;34m(\u001b[0m\u001b[0mcolumns\u001b[0m\u001b[0;34m=\u001b[0m\u001b[0md1_rename\u001b[0m\u001b[0;34m)\u001b[0m\u001b[0;34m\u001b[0m\u001b[0m\n",
      "\u001b[0;31mNameError\u001b[0m: name 'metrics_list' is not defined"
     ]
    }
   ],
   "source": [
    "d1 = {k1: m1['recall_ens_unseen_all'] for k1,m1 in metrics_list.items()}\n",
    "d1.update({'year': metrics_list[list(metrics_list.keys())[0]]['year']})\n",
    "metrics_recall_ens_unseen = pandas.DataFrame(d1)\n",
    "metrics_recall_ens_unseen = metrics_recall_ens_unseen.rename(columns=d1_rename)"
   ]
  },
  {
   "cell_type": "code",
   "execution_count": 17,
   "metadata": {},
   "outputs": [
    {
     "ename": "NameError",
     "evalue": "name 'metrics_recall_ens_unseen' is not defined",
     "output_type": "error",
     "traceback": [
      "\u001b[0;31m---------------------------------------------------------------------------\u001b[0m",
      "\u001b[0;31mNameError\u001b[0m                                 Traceback (most recent call last)",
      "\u001b[0;32m<ipython-input-17-964d7601ef99>\u001b[0m in \u001b[0;36m<module>\u001b[0;34m\u001b[0m\n\u001b[0;32m----> 1\u001b[0;31m \u001b[0mmetrics_recall_ens_unseen\u001b[0m\u001b[0;34m\u001b[0m\u001b[0m\n\u001b[0m",
      "\u001b[0;31mNameError\u001b[0m: name 'metrics_recall_ens_unseen' is not defined"
     ]
    }
   ],
   "source": [
    "metrics_recall_ens_unseen"
   ]
  },
  {
   "cell_type": "markdown",
   "metadata": {},
   "source": [
    "## Results from different classifiers\n",
    "\n",
    "Here we compare the recall metric for the different classifiers used and different input features."
   ]
  },
  {
   "cell_type": "code",
   "execution_count": 18,
   "metadata": {},
   "outputs": [
    {
     "ename": "NameError",
     "evalue": "name 'metrics_recall_ens_unseen' is not defined",
     "output_type": "error",
     "traceback": [
      "\u001b[0;31m---------------------------------------------------------------------------\u001b[0m",
      "\u001b[0;31mNameError\u001b[0m                                 Traceback (most recent call last)",
      "\u001b[0;32m<ipython-input-18-2efb25da423e>\u001b[0m in \u001b[0;36m<module>\u001b[0;34m\u001b[0m\n\u001b[0;32m----> 1\u001b[0;31m \u001b[0mmetrics_recall_ens_unseen\u001b[0m\u001b[0;34m.\u001b[0m\u001b[0mcolumns\u001b[0m\u001b[0;34m\u001b[0m\u001b[0m\n\u001b[0m",
      "\u001b[0;31mNameError\u001b[0m: name 'metrics_recall_ens_unseen' is not defined"
     ]
    }
   ],
   "source": [
    "metrics_recall_ens_unseen.columns"
   ]
  },
  {
   "cell_type": "code",
   "execution_count": 19,
   "metadata": {},
   "outputs": [
    {
     "ename": "NameError",
     "evalue": "name 'clf_list' is not defined",
     "output_type": "error",
     "traceback": [
      "\u001b[0;31m---------------------------------------------------------------------------\u001b[0m",
      "\u001b[0;31mNameError\u001b[0m                                 Traceback (most recent call last)",
      "\u001b[0;32m<ipython-input-19-aa4ca9a67637>\u001b[0m in \u001b[0;36m<module>\u001b[0;34m\u001b[0m\n\u001b[0;32m----> 1\u001b[0;31m \u001b[0mclf_list\u001b[0m\u001b[0;34m\u001b[0m\u001b[0m\n\u001b[0m",
      "\u001b[0;31mNameError\u001b[0m: name 'clf_list' is not defined"
     ]
    }
   ],
   "source": [
    "clf_list"
   ]
  },
  {
   "cell_type": "code",
   "execution_count": 20,
   "metadata": {},
   "outputs": [
    {
     "ename": "NameError",
     "evalue": "name 'metrics_recall_ens_unseen' is not defined",
     "output_type": "error",
     "traceback": [
      "\u001b[0;31m---------------------------------------------------------------------------\u001b[0m",
      "\u001b[0;31mNameError\u001b[0m                                 Traceback (most recent call last)",
      "\u001b[0;32m<ipython-input-20-2efb25da423e>\u001b[0m in \u001b[0;36m<module>\u001b[0;34m\u001b[0m\n\u001b[0;32m----> 1\u001b[0;31m \u001b[0mmetrics_recall_ens_unseen\u001b[0m\u001b[0;34m.\u001b[0m\u001b[0mcolumns\u001b[0m\u001b[0;34m\u001b[0m\u001b[0m\n\u001b[0m",
      "\u001b[0;31mNameError\u001b[0m: name 'metrics_recall_ens_unseen' is not defined"
     ]
    }
   ],
   "source": [
    "metrics_recall_ens_unseen.columns"
   ]
  },
  {
   "cell_type": "code",
   "execution_count": 21,
   "metadata": {},
   "outputs": [
    {
     "ename": "NameError",
     "evalue": "name 'metrics_recall_ens_unseen' is not defined",
     "output_type": "error",
     "traceback": [
      "\u001b[0;31m---------------------------------------------------------------------------\u001b[0m",
      "\u001b[0;31mNameError\u001b[0m                                 Traceback (most recent call last)",
      "\u001b[0;32m<ipython-input-21-481547f4e049>\u001b[0m in \u001b[0;36m<module>\u001b[0;34m\u001b[0m\n\u001b[1;32m      2\u001b[0m \u001b[0max_ens_recall\u001b[0m \u001b[0;34m=\u001b[0m \u001b[0mfig_ens_recall\u001b[0m\u001b[0;34m.\u001b[0m\u001b[0madd_subplot\u001b[0m\u001b[0;34m(\u001b[0m\u001b[0;36m1\u001b[0m\u001b[0;34m,\u001b[0m\u001b[0;36m1\u001b[0m\u001b[0;34m,\u001b[0m\u001b[0;36m1\u001b[0m\u001b[0;34m,\u001b[0m \u001b[0mtitle\u001b[0m\u001b[0;34m=\u001b[0m\u001b[0;34m'Recall for ensemble classifiers - unseen data'\u001b[0m\u001b[0;34m)\u001b[0m\u001b[0;34m\u001b[0m\u001b[0m\n\u001b[1;32m      3\u001b[0m \u001b[0;34m\u001b[0m\u001b[0m\n\u001b[0;32m----> 4\u001b[0;31m metrics_recall_ens_unseen.plot.line(x='year', \n\u001b[0m\u001b[1;32m      5\u001b[0m                                     \u001b[0my\u001b[0m\u001b[0;34m=\u001b[0m \u001b[0;34m[\u001b[0m\u001b[0mc1\u001b[0m \u001b[0;32mfor\u001b[0m \u001b[0mc1\u001b[0m \u001b[0;32min\u001b[0m \u001b[0mclf_list\u001b[0m\u001b[0;34m]\u001b[0m\u001b[0;34m,\u001b[0m\u001b[0;34m\u001b[0m\u001b[0m\n\u001b[1;32m      6\u001b[0m                                     \u001b[0mylim\u001b[0m\u001b[0;34m=\u001b[0m\u001b[0;34m[\u001b[0m\u001b[0;36m0.5\u001b[0m\u001b[0;34m,\u001b[0m \u001b[0;36m0.1\u001b[0m\u001b[0;34m]\u001b[0m\u001b[0;34m,\u001b[0m\u001b[0;34m\u001b[0m\u001b[0m\n",
      "\u001b[0;31mNameError\u001b[0m: name 'metrics_recall_ens_unseen' is not defined"
     ]
    },
    {
     "name": "stderr",
     "output_type": "stream",
     "text": [
      "findfont: Font family ['normal'] not found. Falling back to DejaVu Sans.\n",
      "findfont: Font family ['normal'] not found. Falling back to DejaVu Sans.\n"
     ]
    },
    {
     "data": {
      "image/png": "[encoded data removed]",
      "text/plain": [
       "<Figure size 864x864 with 1 Axes>"
      ]
     },
     "metadata": {},
     "output_type": "display_data"
    }
   ],
   "source": [
    "fig_ens_recall = matplotlib.pyplot.figure('results_ens_unseen', figsize=(12,12))\n",
    "ax_ens_recall = fig_ens_recall.add_subplot(1,1,1, title='Recall for ensemble classifiers - unseen data')\n",
    "\n",
    "metrics_recall_ens_unseen.plot.line(x='year', \n",
    "                                    y= [c1 for c1 in clf_list],\n",
    "                                    ylim=[0.5, 0.1], \n",
    "                                    ax=ax_ens_recall,\n",
    "                                    c='grey'\n",
    "                                   )\n",
    "\n",
    "imeta_metrics.plot.line(x='year',y='imeta_instr_recall_all', ax=ax_ens_recall, ylim=[0.5, 1.0], linewidth=4)\n",
    "fig_ens_recall.savefig(os.path.join(xbt_plots_dir, 'recall_ens_unseen_byYear.png'))"
   ]
  },
  {
   "cell_type": "code",
   "execution_count": 22,
   "metadata": {},
   "outputs": [
    {
     "ename": "NameError",
     "evalue": "name 'metrics_cons_train1' is not defined",
     "output_type": "error",
     "traceback": [
      "\u001b[0;31m---------------------------------------------------------------------------\u001b[0m",
      "\u001b[0;31mNameError\u001b[0m                                 Traceback (most recent call last)",
      "\u001b[0;32m<ipython-input-22-3fcb57b60f32>\u001b[0m in \u001b[0;36m<module>\u001b[0;34m\u001b[0m\n\u001b[0;32m----> 1\u001b[0;31m \u001b[0mnum_rows\u001b[0m \u001b[0;34m=\u001b[0m \u001b[0mlen\u001b[0m\u001b[0;34m(\u001b[0m\u001b[0mmetrics_cons_train1\u001b[0m\u001b[0;34m.\u001b[0m\u001b[0mkeys\u001b[0m\u001b[0;34m(\u001b[0m\u001b[0;34m)\u001b[0m\u001b[0;34m)\u001b[0m\u001b[0;34m\u001b[0m\u001b[0m\n\u001b[0m\u001b[1;32m      2\u001b[0m \u001b[0mylim\u001b[0m \u001b[0;34m=\u001b[0m \u001b[0;34m[\u001b[0m\u001b[0;36m0.5\u001b[0m\u001b[0;34m,\u001b[0m\u001b[0;36m1.01\u001b[0m\u001b[0;34m]\u001b[0m\u001b[0;34m\u001b[0m\u001b[0m\n\u001b[1;32m      3\u001b[0m \u001b[0;34m\u001b[0m\u001b[0m\n\u001b[1;32m      4\u001b[0m \u001b[0mfig_results\u001b[0m \u001b[0;34m=\u001b[0m \u001b[0mmatplotlib\u001b[0m\u001b[0;34m.\u001b[0m\u001b[0mpyplot\u001b[0m\u001b[0;34m.\u001b[0m\u001b[0mfigure\u001b[0m\u001b[0;34m(\u001b[0m\u001b[0;34m'results1'\u001b[0m\u001b[0;34m,\u001b[0m \u001b[0mfigsize\u001b[0m\u001b[0;34m=\u001b[0m\u001b[0;34m(\u001b[0m\u001b[0;36m16\u001b[0m\u001b[0;34m,\u001b[0m \u001b[0;36m8\u001b[0m\u001b[0;34m*\u001b[0m\u001b[0;34m(\u001b[0m\u001b[0mnum_rows\u001b[0m\u001b[0;34m+\u001b[0m\u001b[0;36m1\u001b[0m\u001b[0;34m)\u001b[0m\u001b[0;34m)\u001b[0m\u001b[0;34m)\u001b[0m\u001b[0;34m\u001b[0m\u001b[0m\n\u001b[1;32m      5\u001b[0m \u001b[0max_train\u001b[0m \u001b[0;34m=\u001b[0m \u001b[0mfig_results\u001b[0m\u001b[0;34m.\u001b[0m\u001b[0madd_subplot\u001b[0m\u001b[0;34m(\u001b[0m\u001b[0mnum_rows\u001b[0m\u001b[0;34m+\u001b[0m\u001b[0;36m1\u001b[0m\u001b[0;34m,\u001b[0m \u001b[0;36m2\u001b[0m\u001b[0;34m,\u001b[0m \u001b[0;36m1\u001b[0m\u001b[0;34m,\u001b[0m \u001b[0mtitle\u001b[0m\u001b[0;34m=\u001b[0m\u001b[0;34m'Recall training data'\u001b[0m\u001b[0;34m)\u001b[0m\u001b[0;34m\u001b[0m\u001b[0m\n",
      "\u001b[0;31mNameError\u001b[0m: name 'metrics_cons_train1' is not defined"
     ]
    }
   ],
   "source": [
    "num_rows = len(metrics_cons_train1.keys())\n",
    "ylim = [0.5,1.01]\n",
    "\n",
    "fig_results = matplotlib.pyplot.figure('results1', figsize=(16, 8*(num_rows+1)))\n",
    "ax_train = fig_results.add_subplot(num_rows+1, 2, 1, title='Recall training data')\n",
    "metrics_cons_train1.plot.line(x='year', ax=ax_train, ylim=ylim)\n",
    "ax_test = fig_results.add_subplot(num_rows+1, 2, 2, title='Recall test data')\n",
    "metrics_cons_test1.plot.line(x='year', ax=ax_test, ylim=ylim)\n",
    "\n",
    "imeta_metrics.plot.line(x='year',y='imeta_instr_recall_all', ax=ax_train, ylim=ylim)\n",
    "imeta_metrics.plot.line(x='year',y='imeta_instr_recall_all', ax=ax_test, ylim=ylim)\n",
    "\n",
    "ix1 = 1\n",
    "for k1, v1 in metrics_train_perClassifier.items():\n",
    "    ax_train = fig_results.add_subplot(num_rows+1, 2 , ix1*2 + 1, title='Recall training {0}'.format(k1))\n",
    "    v1.plot.line(x='year', ax=ax_train, ylim=[0.5,1.1],c='b',alpha=0.7)\n",
    "    metrics_ens[k1].plot.line(x='year', y='recall_ens_working_all', ax=ax_train,c='r',linewidth=2.0)\n",
    "    imeta_metrics.plot.line(x='year',y='imeta_instr_recall_all', ax=ax_train, ylim=ylim, c='g')\n",
    "    ix1 += 1\n",
    "ix1 = 1    \n",
    "for k1, v1 in metrics_test_perClassifier.items():\n",
    "    ax_test = fig_results.add_subplot(num_rows+1, 2, ix1*2 + 2, title='Recall test {0}'.format(k1))\n",
    "    v1.plot.line(x='year', ax=ax_test, ylim=[0.5,1.1],c='b',alpha=0.7)\n",
    "    metrics_ens[k1].plot.line(x='year', y='recall_ens_unseen_all', ax=ax_test,c='r',linewidth=2.0)\n",
    "    imeta_metrics.plot.line(x='year',y='imeta_instr_recall_all', ax=ax_test, ylim=ylim,c='g')\n",
    "    ix1 += 1\n",
    "    \n"
   ]
  },
  {
   "cell_type": "markdown",
   "metadata": {},
   "source": [
    "What graphs and tables do we want to show here to justify our decision of which classifier type and what set of input features we are recommending to use?\n",
    "\n",
    "* averages for each classifier\n",
    "* show all member, average and max prob metrics for each classifier\n",
    "* compare to imeta baseline for each\n",
    "* come up with one number for each classifier to choose the best classifier.\n",
    "\n",
    "Other questions:\n",
    "* Do we want to compare per class performance\n",
    "* more analysis of per cruise performance"
   ]
  },
  {
   "cell_type": "markdown",
   "metadata": {},
   "source": [
    "## And now, the winner is...\n",
    "\n",
    "In order to select a classifier to use, we need to choose a metric to rank them on. We have chosen the recall for the ensemble classifier on the unseen data as best representing which classifier will perform best on the unlabelled data."
   ]
  },
  {
   "cell_type": "code",
   "execution_count": 23,
   "metadata": {},
   "outputs": [],
   "source": [
    "score_tuples1 = [ (dir_list[0], sorted([fname1 for fname1 in dir_list[2] if score_prefix in fname1])[-1]) for dir_list in os.walk(xbt_output_dir) if len([fname1 for fname1 in dir_list[2] if score_prefix in fname1]) > 0]\n",
    "score_tuples1 = [(i1[0],i1[1], re.search(regex_score_files, i1[1])) for i1 in score_tuples1]"
   ]
  },
  {
   "cell_type": "code",
   "execution_count": 24,
   "metadata": {},
   "outputs": [],
   "source": [
    "scores_files_dict = {'{0}_{1}'.format(t1[2].group('classifier'), t1[2].group('features')): \n",
    " {\n",
    "    'classifier': t1[2].group('classifier'),\n",
    "    'features': t1[2].group('features'),\n",
    "    'timestamp': t1[2].group('timestamp'),\n",
    "    'dir': t1[0],\n",
    "    'fname': t1[1],\n",
    "     'path': os.path.join(t1[0], t1[1]),\n",
    " }\n",
    "    for t1 in score_tuples1}"
   ]
  },
  {
   "cell_type": "code",
   "execution_count": 25,
   "metadata": {},
   "outputs": [],
   "source": [
    "scores_list = {k1: pandas.read_csv(v1['path']) for k1, v1 in scores_files_dict.items()}"
   ]
  },
  {
   "cell_type": "code",
   "execution_count": 26,
   "metadata": {},
   "outputs": [],
   "source": [
    "current_metric = 'recall_all'"
   ]
  },
  {
   "cell_type": "code",
   "execution_count": 27,
   "metadata": {},
   "outputs": [
    {
     "data": {
      "text/html": [
       "<div>\n",
       "<style scoped>\n",
       "    .dataframe tbody tr th:only-of-type {\n",
       "        vertical-align: middle;\n",
       "    }\n",
       "\n",
       "    .dataframe tbody tr th {\n",
       "        vertical-align: top;\n",
       "    }\n",
       "\n",
       "    .dataframe thead th {\n",
       "        text-align: right;\n",
       "    }\n",
       "</style>\n",
       "<table border=\"1\" class=\"dataframe\">\n",
       "  <thead>\n",
       "    <tr style=\"text-align: right;\">\n",
       "      <th></th>\n",
       "      <th>name</th>\n",
       "      <th>RandomForest_countryLatLon</th>\n",
       "      <th>decisionTree_countryLatLon</th>\n",
       "      <th>decisionTree_latLon</th>\n",
       "      <th>mlp_countryLatLon</th>\n",
       "      <th>logreg_country</th>\n",
       "    </tr>\n",
       "  </thead>\n",
       "  <tbody>\n",
       "    <tr>\n",
       "      <th>0</th>\n",
       "      <td>ens_working</td>\n",
       "      <td>0.972589</td>\n",
       "      <td>0.982580</td>\n",
       "      <td>0.985867</td>\n",
       "      <td>0.912931</td>\n",
       "      <td>0.789005</td>\n",
       "    </tr>\n",
       "    <tr>\n",
       "      <th>1</th>\n",
       "      <td>train_0</td>\n",
       "      <td>0.976222</td>\n",
       "      <td>0.948750</td>\n",
       "      <td>0.984740</td>\n",
       "      <td>0.887112</td>\n",
       "      <td>0.813420</td>\n",
       "    </tr>\n",
       "    <tr>\n",
       "      <th>2</th>\n",
       "      <td>train_1</td>\n",
       "      <td>0.972116</td>\n",
       "      <td>0.980233</td>\n",
       "      <td>0.966139</td>\n",
       "      <td>0.902056</td>\n",
       "      <td>0.783994</td>\n",
       "    </tr>\n",
       "    <tr>\n",
       "      <th>3</th>\n",
       "      <td>train_2</td>\n",
       "      <td>0.972551</td>\n",
       "      <td>0.980869</td>\n",
       "      <td>0.966617</td>\n",
       "      <td>0.902600</td>\n",
       "      <td>0.780926</td>\n",
       "    </tr>\n",
       "  </tbody>\n",
       "</table>\n",
       "</div>"
      ],
      "text/plain": [
       "          name  RandomForest_countryLatLon  decisionTree_countryLatLon  \\\n",
       "0  ens_working                    0.972589                    0.982580   \n",
       "1      train_0                    0.976222                    0.948750   \n",
       "2      train_1                    0.972116                    0.980233   \n",
       "3      train_2                    0.972551                    0.980869   \n",
       "\n",
       "   decisionTree_latLon  mlp_countryLatLon  logreg_country  \n",
       "0             0.985867           0.912931        0.789005  \n",
       "1             0.984740           0.887112        0.813420  \n",
       "2             0.966139           0.902056        0.783994  \n",
       "3             0.966617           0.902600        0.780926  "
      ]
     },
     "execution_count": 27,
     "metadata": {},
     "output_type": "execute_result"
    }
   ],
   "source": [
    "current_subset = 'train'\n",
    "functools.reduce(lambda x,y: pandas.merge(x, y, on='name'), [pandas.DataFrame({'name': df_score[df_score.subset ==current_subset]['name'], exp: df_score[df_score.subset == current_subset][current_metric]}) for exp, df_score in scores_list.items()])"
   ]
  },
  {
   "cell_type": "code",
   "execution_count": 28,
   "metadata": {},
   "outputs": [
    {
     "data": {
      "text/html": [
       "<div>\n",
       "<style scoped>\n",
       "    .dataframe tbody tr th:only-of-type {\n",
       "        vertical-align: middle;\n",
       "    }\n",
       "\n",
       "    .dataframe tbody tr th {\n",
       "        vertical-align: top;\n",
       "    }\n",
       "\n",
       "    .dataframe thead th {\n",
       "        text-align: right;\n",
       "    }\n",
       "</style>\n",
       "<table border=\"1\" class=\"dataframe\">\n",
       "  <thead>\n",
       "    <tr style=\"text-align: right;\">\n",
       "      <th></th>\n",
       "      <th>name</th>\n",
       "      <th>RandomForest_countryLatLon</th>\n",
       "      <th>decisionTree_countryLatLon</th>\n",
       "      <th>decisionTree_latLon</th>\n",
       "      <th>mlp_countryLatLon</th>\n",
       "      <th>logreg_country</th>\n",
       "    </tr>\n",
       "  </thead>\n",
       "  <tbody>\n",
       "    <tr>\n",
       "      <th>0</th>\n",
       "      <td>test_0</td>\n",
       "      <td>0.879548</td>\n",
       "      <td>0.980797</td>\n",
       "      <td>0.913534</td>\n",
       "      <td>0.911796</td>\n",
       "      <td>0.716188</td>\n",
       "    </tr>\n",
       "    <tr>\n",
       "      <th>1</th>\n",
       "      <td>test_1</td>\n",
       "      <td>0.941260</td>\n",
       "      <td>0.936086</td>\n",
       "      <td>0.984693</td>\n",
       "      <td>0.916774</td>\n",
       "      <td>0.796469</td>\n",
       "    </tr>\n",
       "    <tr>\n",
       "      <th>2</th>\n",
       "      <td>test_2</td>\n",
       "      <td>0.940668</td>\n",
       "      <td>0.933667</td>\n",
       "      <td>0.986182</td>\n",
       "      <td>0.899764</td>\n",
       "      <td>0.801108</td>\n",
       "    </tr>\n",
       "  </tbody>\n",
       "</table>\n",
       "</div>"
      ],
      "text/plain": [
       "     name  RandomForest_countryLatLon  decisionTree_countryLatLon  \\\n",
       "0  test_0                    0.879548                    0.980797   \n",
       "1  test_1                    0.941260                    0.936086   \n",
       "2  test_2                    0.940668                    0.933667   \n",
       "\n",
       "   decisionTree_latLon  mlp_countryLatLon  logreg_country  \n",
       "0             0.913534           0.911796        0.716188  \n",
       "1             0.984693           0.916774        0.796469  \n",
       "2             0.986182           0.899764        0.801108  "
      ]
     },
     "execution_count": 28,
     "metadata": {},
     "output_type": "execute_result"
    }
   ],
   "source": [
    "current_subset = 'test'\n",
    "functools.reduce(lambda x,y: pandas.merge(x, y, on='name'), [pandas.DataFrame({'name': df_score[df_score.subset ==current_subset]['name'], exp: df_score[df_score.subset == current_subset][current_metric]}) for exp, df_score in scores_list.items()])"
   ]
  },
  {
   "cell_type": "code",
   "execution_count": 29,
   "metadata": {},
   "outputs": [
    {
     "data": {
      "text/html": [
       "<div>\n",
       "<style scoped>\n",
       "    .dataframe tbody tr th:only-of-type {\n",
       "        vertical-align: middle;\n",
       "    }\n",
       "\n",
       "    .dataframe tbody tr th {\n",
       "        vertical-align: top;\n",
       "    }\n",
       "\n",
       "    .dataframe thead th {\n",
       "        text-align: right;\n",
       "    }\n",
       "</style>\n",
       "<table border=\"1\" class=\"dataframe\">\n",
       "  <thead>\n",
       "    <tr style=\"text-align: right;\">\n",
       "      <th></th>\n",
       "      <th>name</th>\n",
       "      <th>RandomForest_countryLatLon</th>\n",
       "      <th>decisionTree_countryLatLon</th>\n",
       "      <th>decisionTree_latLon</th>\n",
       "      <th>mlp_countryLatLon</th>\n",
       "      <th>logreg_country</th>\n",
       "    </tr>\n",
       "  </thead>\n",
       "  <tbody>\n",
       "    <tr>\n",
       "      <th>0</th>\n",
       "      <td>ens_unseen</td>\n",
       "      <td>0.946560</td>\n",
       "      <td>0.940416</td>\n",
       "      <td>0.850877</td>\n",
       "      <td>0.918764</td>\n",
       "      <td>0.808023</td>\n",
       "    </tr>\n",
       "    <tr>\n",
       "      <th>1</th>\n",
       "      <td>unseen_0</td>\n",
       "      <td>0.945510</td>\n",
       "      <td>0.926800</td>\n",
       "      <td>0.834972</td>\n",
       "      <td>0.915790</td>\n",
       "      <td>0.820546</td>\n",
       "    </tr>\n",
       "    <tr>\n",
       "      <th>2</th>\n",
       "      <td>unseen_1</td>\n",
       "      <td>0.943668</td>\n",
       "      <td>0.928664</td>\n",
       "      <td>0.832906</td>\n",
       "      <td>0.909484</td>\n",
       "      <td>0.806070</td>\n",
       "    </tr>\n",
       "    <tr>\n",
       "      <th>3</th>\n",
       "      <td>unseen_2</td>\n",
       "      <td>0.944930</td>\n",
       "      <td>0.929058</td>\n",
       "      <td>0.840067</td>\n",
       "      <td>0.899958</td>\n",
       "      <td>0.804601</td>\n",
       "    </tr>\n",
       "  </tbody>\n",
       "</table>\n",
       "</div>"
      ],
      "text/plain": [
       "         name  RandomForest_countryLatLon  decisionTree_countryLatLon  \\\n",
       "0  ens_unseen                    0.946560                    0.940416   \n",
       "1    unseen_0                    0.945510                    0.926800   \n",
       "2    unseen_1                    0.943668                    0.928664   \n",
       "3    unseen_2                    0.944930                    0.929058   \n",
       "\n",
       "   decisionTree_latLon  mlp_countryLatLon  logreg_country  \n",
       "0             0.850877           0.918764        0.808023  \n",
       "1             0.834972           0.915790        0.820546  \n",
       "2             0.832906           0.909484        0.806070  \n",
       "3             0.840067           0.899958        0.804601  "
      ]
     },
     "execution_count": 29,
     "metadata": {},
     "output_type": "execute_result"
    }
   ],
   "source": [
    "current_subset = 'unseen'\n",
    "recall_unseen_df = functools.reduce(lambda x,y: pandas.merge(x, y, on='name'), [pandas.DataFrame({'name': df_score[df_score.subset ==current_subset]['name'], exp: df_score[df_score.subset == current_subset][current_metric]}) for exp, df_score in scores_list.items()])\n",
    "recall_unseen_df"
   ]
  },
  {
   "cell_type": "code",
   "execution_count": 30,
   "metadata": {},
   "outputs": [],
   "source": [
    "alg_name_lut = {'RandomForest_countryLatLon': 'Random Forest',\n",
    "                'decisionTree_countryLatLon': 'Decision Tree',\n",
    "                'decisionTree_latLon': 'DT (no country)',\n",
    "                'mlp_countryLatLon': 'Neural Network',\n",
    "                'logreg_country': 'Logistic Regression',\n",
    "               }"
   ]
  },
  {
   "cell_type": "code",
   "execution_count": 31,
   "metadata": {},
   "outputs": [],
   "source": [
    "metrics_plot_df = pandas.DataFrame.from_records([{\n",
    "    'algorithm': k1, \n",
    "    'algorithm_name': alg_name_lut[k1],\n",
    "    'recall': float(s1[s1.name == 'ens_unseen']['recall_all']),\n",
    "    'precision': float(s1[s1.name == 'ens_unseen']['precision_all']),\n",
    "    'f1': float(s1[s1.name == 'ens_unseen']['f1_all']),\n",
    "} for k1, s1 in scores_list.items()])\n"
   ]
  },
  {
   "cell_type": "code",
   "execution_count": 32,
   "metadata": {},
   "outputs": [
    {
     "data": {
      "text/html": [
       "<div>\n",
       "<style scoped>\n",
       "    .dataframe tbody tr th:only-of-type {\n",
       "        vertical-align: middle;\n",
       "    }\n",
       "\n",
       "    .dataframe tbody tr th {\n",
       "        vertical-align: top;\n",
       "    }\n",
       "\n",
       "    .dataframe thead th {\n",
       "        text-align: right;\n",
       "    }\n",
       "</style>\n",
       "<table border=\"1\" class=\"dataframe\">\n",
       "  <thead>\n",
       "    <tr style=\"text-align: right;\">\n",
       "      <th></th>\n",
       "      <th>algorithm</th>\n",
       "      <th>algorithm_name</th>\n",
       "      <th>recall</th>\n",
       "      <th>precision</th>\n",
       "      <th>f1</th>\n",
       "    </tr>\n",
       "  </thead>\n",
       "  <tbody>\n",
       "    <tr>\n",
       "      <th>0</th>\n",
       "      <td>RandomForest_countryLatLon</td>\n",
       "      <td>Random Forest</td>\n",
       "      <td>0.946560</td>\n",
       "      <td>0.946560</td>\n",
       "      <td>0.946560</td>\n",
       "    </tr>\n",
       "    <tr>\n",
       "      <th>1</th>\n",
       "      <td>decisionTree_countryLatLon</td>\n",
       "      <td>Decision Tree</td>\n",
       "      <td>0.940416</td>\n",
       "      <td>0.940416</td>\n",
       "      <td>0.940416</td>\n",
       "    </tr>\n",
       "    <tr>\n",
       "      <th>2</th>\n",
       "      <td>decisionTree_latLon</td>\n",
       "      <td>DT (no country)</td>\n",
       "      <td>0.850877</td>\n",
       "      <td>0.850877</td>\n",
       "      <td>0.850877</td>\n",
       "    </tr>\n",
       "    <tr>\n",
       "      <th>3</th>\n",
       "      <td>mlp_countryLatLon</td>\n",
       "      <td>Neural Network</td>\n",
       "      <td>0.918764</td>\n",
       "      <td>0.918764</td>\n",
       "      <td>0.918764</td>\n",
       "    </tr>\n",
       "    <tr>\n",
       "      <th>4</th>\n",
       "      <td>logreg_country</td>\n",
       "      <td>Logistic Regression</td>\n",
       "      <td>0.808023</td>\n",
       "      <td>0.808023</td>\n",
       "      <td>0.808023</td>\n",
       "    </tr>\n",
       "  </tbody>\n",
       "</table>\n",
       "</div>"
      ],
      "text/plain": [
       "                    algorithm       algorithm_name    recall  precision  \\\n",
       "0  RandomForest_countryLatLon        Random Forest  0.946560   0.946560   \n",
       "1  decisionTree_countryLatLon        Decision Tree  0.940416   0.940416   \n",
       "2         decisionTree_latLon      DT (no country)  0.850877   0.850877   \n",
       "3           mlp_countryLatLon       Neural Network  0.918764   0.918764   \n",
       "4              logreg_country  Logistic Regression  0.808023   0.808023   \n",
       "\n",
       "         f1  \n",
       "0  0.946560  \n",
       "1  0.940416  \n",
       "2  0.850877  \n",
       "3  0.918764  \n",
       "4  0.808023  "
      ]
     },
     "execution_count": 32,
     "metadata": {},
     "output_type": "execute_result"
    }
   ],
   "source": [
    "metrics_plot_df"
   ]
  },
  {
   "cell_type": "code",
   "execution_count": 33,
   "metadata": {},
   "outputs": [
    {
     "name": "stderr",
     "output_type": "stream",
     "text": [
      "findfont: Font family ['normal'] not found. Falling back to DejaVu Sans.\n"
     ]
    },
    {
     "data": {
      "image/png": "[encoded data removed]",
      "text/plain": [
       "<Figure size 864x1080 with 3 Axes>"
      ]
     },
     "metadata": {},
     "output_type": "display_data"
    }
   ],
   "source": [
    "fig_avg_metrics = matplotlib.pyplot.figure('avg_recall', figsize=(12,15))\n",
    "ax_avg_recall = fig_avg_metrics.add_subplot(3,1,1, title='average recall for ensemble classifier of different algorithms on validation data')\n",
    "metrics_plot_df.plot.barh(x='algorithm_name', y='recall', ax=ax_avg_recall)\n",
    "ax_avg_recall.set_ylabel('algorithm')\n",
    "ax_avg_recall.set_xlabel('recall')\n",
    "\n",
    "ax_avg_precision = fig_avg_metrics.add_subplot(3,1,2, title='average precision for ensemble classifier of different algorithms on validation data')\n",
    "metrics_plot_df.plot.barh(x='algorithm_name', y='precision', ax=ax_avg_precision)\n",
    "ax_avg_precision.set_ylabel('algorithm')\n",
    "ax_avg_precision.set_xlabel('precision')\n",
    "\n",
    "\n",
    "ax_f1_precision = fig_avg_metrics.add_subplot(3,1,3, title='average f1 for ensemble classifier of different algorithms on validation data')\n",
    "metrics_plot_df.plot.barh(x='algorithm_name', y='f1', ax=ax_f1_precision)\n",
    "ax_f1_precision.set_ylabel('algorithm')\n",
    "ax_f1_precision.set_xlabel('f1')\n",
    "\n",
    "fig_avg_metrics.savefig(os.path.join(xbt_plots_dir,                 \n",
    "                                    'xbt_avg_ens_metrics_unseen_classifierComparison.png'),bbox_inches='tight')\n"
   ]
  },
  {
   "cell_type": "code",
   "execution_count": null,
   "metadata": {},
   "outputs": [],
   "source": []
  },
  {
   "cell_type": "code",
   "execution_count": null,
   "metadata": {},
   "outputs": [],
   "source": []
  }
 ],
 "metadata": {
  "kernelspec": {
   "display_name": "experimental-current",
   "language": "python",
   "name": "experimental-current"
  },
  "language_info": {
   "codemirror_mode": {
    "name": "ipython",
    "version": 3
   },
   "file_extension": ".py",
   "mimetype": "text/x-python",
   "name": "python",
   "nbconvert_exporter": "python",
   "pygments_lexer": "ipython3",
   "version": "3.6.6"
  }
 },
 "nbformat": 4,
 "nbformat_minor": 4
}
